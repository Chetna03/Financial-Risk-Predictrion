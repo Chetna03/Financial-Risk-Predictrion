{
  "nbformat": 4,
  "nbformat_minor": 0,
  "metadata": {
    "colab": {
      "private_outputs": true,
      "provenance": [],
      "collapsed_sections": [
        "FJNUwmbgGyua",
        "w6K7xa23Elo4",
        "yQaldy8SH6Dl",
        "mDgbUHAGgjLW",
        "Y3lxredqlCYt",
        "JlHwYmJAmNHm",
        "35m5QtbWiB9F",
        "PoPl-ycgm1ru",
        "H0kj-8xxnORC",
        "nA9Y7ga8ng1Z",
        "PBTbrJXOngz2",
        "u3PMJOP6ngxN",
        "dauF4eBmngu3",
        "bKJF3rekwFvQ",
        "MSa1f5Uengrz",
        "GF8Ens_Soomf",
        "0wOQAZs5pc--",
        "K5QZ13OEpz2H",
        "lQ7QKXXCp7Bj",
        "448CDAPjqfQr",
        "KSlN3yHqYklG",
        "t6dVpIINYklI",
        "ijmpgYnKYklI",
        "-JiQyfWJYklI",
        "EM7whBJCYoAo",
        "fge-S5ZAYoAp",
        "85gYPyotYoAp",
        "RoGjAbkUYoAp",
        "4Of9eVA-YrdM",
        "iky9q4vBYrdO",
        "F6T5p64dYrdO",
        "y-Ehk30pYrdP",
        "bamQiAODYuh1",
        "QHF8YVU7Yuh3",
        "GwzvFGzlYuh3",
        "qYpmQ266Yuh3",
        "OH-pJp9IphqM",
        "bbFf2-_FphqN",
        "_ouA3fa0phqN",
        "Seke61FWphqN",
        "PIIx-8_IphqN",
        "t27r6nlMphqO",
        "r2jJGEOYphqO",
        "b0JNsNcRphqO",
        "BZR9WyysphqO",
        "jj7wYXLtphqO",
        "eZrbJ2SmphqO",
        "rFu4xreNphqO",
        "YJ55k-q6phqO",
        "gCFgpxoyphqP",
        "OVtJsKN_phqQ",
        "lssrdh5qphqQ",
        "U2RJ9gkRphqQ",
        "1M8mcRywphqQ",
        "tgIPom80phqQ",
        "JMzcOPDDphqR",
        "x-EpHcCOp1ci",
        "X_VqEhTip1ck",
        "8zGJKyg5p1ck",
        "PVzmfK_Ep1ck",
        "n3dbpmDWp1ck",
        "ylSl6qgtp1ck",
        "ZWILFDl5p1ck",
        "M7G43BXep1ck",
        "Ag9LCva-p1cl",
        "E6MkPsBcp1cl",
        "2cELzS2fp1cl",
        "3MPXvC8up1cl",
        "NC_X3p0fY2L0",
        "UV0SzAkaZNRQ",
        "YPEH6qLeZNRQ",
        "q29F0dvdveiT",
        "EXh0U9oCveiU",
        "22aHeOlLveiV",
        "g-ATYxFrGrvw",
        "Yfr_Vlr8HBkt",
        "8yEUt7NnHlrM",
        "tEA2Xm5dHt1r",
        "I79__PHVH19G",
        "Ou-I18pAyIpj",
        "fF3858GYyt-u",
        "4_0_7-oCpUZd",
        "hwyV_J3ipUZe",
        "3yB-zSqbpUZe",
        "dEUvejAfpUZe",
        "Fd15vwWVpUZf",
        "bn_IUdTipZyH",
        "49K5P_iCpZyH",
        "Nff-vKELpZyI",
        "kLW572S8pZyI",
        "dWbDXHzopZyI",
        "yLjJCtPM0KBk",
        "xiyOF9F70UgQ",
        "7wuGOrhz0itI",
        "id1riN9m0vUs",
        "578E2V7j08f6",
        "89xtkJwZ18nB",
        "67NQN5KX2AMe",
        "Iwf50b-R2tYG",
        "GMQiZwjn3iu7",
        "WVIkgGqN3qsr",
        "XkPnILGE3zoT",
        "Hlsf0x5436Go",
        "mT9DMSJo4nBL",
        "c49ITxTc407N",
        "OeJFEK0N496M",
        "9ExmJH0g5HBk",
        "cJNqERVU536h",
        "k5UmGsbsOxih",
        "T0VqWOYE6DLQ",
        "qBMux9mC6MCf",
        "-oLEiFgy-5Pf",
        "C74aWNz2AliB",
        "2DejudWSA-a0",
        "pEMng2IbBLp7",
        "rAdphbQ9Bhjc",
        "TNVZ9zx19K6k",
        "nqoHp30x9hH9",
        "rMDnDkt2B6du",
        "yiiVWRdJDDil",
        "1UUpS68QDMuG",
        "kexQrXU-DjzY",
        "T5CmagL3EC8N",
        "BhH2vgX9EjGr",
        "qjKvONjwE8ra",
        "P1XJ9OREExlT",
        "VFOzZv6IFROw",
        "TIqpNgepFxVj",
        "VfCC591jGiD4",
        "OB4l2ZhMeS1U",
        "ArJBuiUVfxKd",
        "4qY1EAkEfxKe",
        "PiV4Ypx8fxKe",
        "TfvqoZmBfxKf",
        "dJ2tPlVmpsJ0",
        "JWYfwnehpsJ1",
        "-jK_YjpMpsJ2",
        "HAih1iBOpsJ2",
        "zVGeBEFhpsJ2",
        "bmKjuQ-FpsJ3",
        "Fze-IPXLpx6K",
        "7AN1z2sKpx6M",
        "9PIHJqyupx6M",
        "_-qAgymDpx6N",
        "Z-hykwinpx6N",
        "h_CCil-SKHpo",
        "cBFFvTBNJzUa",
        "HvGl1hHyA_VK",
        "EyNgTHvd2WFk",
        "KH5McJBi2d8v",
        "iW_Lq9qf2h6X",
        "-Kee-DAl2viO",
        "gCX9965dhzqZ",
        "gIfDvo9L0UH2"
      ]
    },
    "kernelspec": {
      "name": "python3",
      "display_name": "Python 3"
    },
    "language_info": {
      "name": "python"
    }
  },
  "cells": [
    {
      "cell_type": "markdown",
      "source": [
        "# **Project Name**    - Financial Risk Predictrion\n",
        "\n"
      ],
      "metadata": {
        "id": "vncDsAP0Gaoa"
      }
    },
    {
      "cell_type": "markdown",
      "source": [
        "##### **Project Type**    - Supervised\n",
        "##### **Contribution**    - Individual"
      ],
      "metadata": {
        "id": "beRrZCGUAJYm"
      }
    },
    {
      "cell_type": "markdown",
      "source": [
        "# **Project Summary -**"
      ],
      "metadata": {
        "id": "FJNUwmbgGyua"
      }
    },
    {
      "cell_type": "markdown",
      "source": [
        "Write the summary here within 500-600 words."
      ],
      "metadata": {
        "id": "F6v_1wHtG2nS"
      }
    },
    {
      "cell_type": "markdown",
      "source": [
        "# **GitHub Link -**"
      ],
      "metadata": {
        "id": "w6K7xa23Elo4"
      }
    },
    {
      "cell_type": "markdown",
      "source": [
        "Provide your GitHub Link here."
      ],
      "metadata": {
        "id": "h1o69JH3Eqqn"
      }
    },
    {
      "cell_type": "markdown",
      "source": [
        "# **Problem Statement**\n"
      ],
      "metadata": {
        "id": "yQaldy8SH6Dl"
      }
    },
    {
      "cell_type": "markdown",
      "source": [
        "**Write Problem Statement Here.**"
      ],
      "metadata": {
        "id": "DpeJGUA3kjGy"
      }
    },
    {
      "cell_type": "markdown",
      "source": [
        "# **General Guidelines** : -  "
      ],
      "metadata": {
        "id": "mDgbUHAGgjLW"
      }
    },
    {
      "cell_type": "markdown",
      "source": [
        "1.   Well-structured, formatted, and commented code is required.\n",
        "2.   Exception Handling, Production Grade Code & Deployment Ready Code will be a plus. Those students will be awarded some additional credits.\n",
        "     \n",
        "     The additional credits will have advantages over other students during Star Student selection.\n",
        "       \n",
        "             [ Note: - Deployment Ready Code is defined as, the whole .ipynb notebook should be executable in one go\n",
        "                       without a single error logged. ]\n",
        "\n",
        "3.   Each and every logic should have proper comments.\n",
        "4. You may add as many number of charts you want. Make Sure for each and every chart the following format should be answered.\n",
        "        \n",
        "\n",
        "```\n",
        "# Chart visualization code\n",
        "```\n",
        "            \n",
        "\n",
        "*   Why did you pick the specific chart?\n",
        "*   What is/are the insight(s) found from the chart?\n",
        "* Will the gained insights help creating a positive business impact?\n",
        "Are there any insights that lead to negative growth? Justify with specific reason.\n",
        "\n",
        "5. You have to create at least 15 logical & meaningful charts having important insights.\n",
        "\n",
        "\n",
        "[ Hints : - Do the Vizualization in  a structured way while following \"UBM\" Rule.\n",
        "\n",
        "U - Univariate Analysis,\n",
        "\n",
        "B - Bivariate Analysis (Numerical - Categorical, Numerical - Numerical, Categorical - Categorical)\n",
        "\n",
        "M - Multivariate Analysis\n",
        " ]\n",
        "\n",
        "\n",
        "\n",
        "\n",
        "\n",
        "6. You may add more ml algorithms for model creation. Make sure for each and every algorithm, the following format should be answered.\n",
        "\n",
        "\n",
        "*   Explain the ML Model used and it's performance using Evaluation metric Score Chart.\n",
        "\n",
        "\n",
        "*   Cross- Validation & Hyperparameter Tuning\n",
        "\n",
        "*   Have you seen any improvement? Note down the improvement with updates Evaluation metric Score Chart.\n",
        "\n",
        "*   Explain each evaluation metric's indication towards business and the business impact pf the ML model used.\n",
        "\n",
        "\n",
        "\n",
        "\n",
        "\n",
        "\n",
        "\n",
        "\n",
        "\n",
        "\n",
        "\n",
        "\n",
        "\n",
        "\n",
        "\n",
        "\n",
        "\n",
        "\n"
      ],
      "metadata": {
        "id": "ZrxVaUj-hHfC"
      }
    },
    {
      "cell_type": "markdown",
      "source": [
        "# ***Let's Begin !***"
      ],
      "metadata": {
        "id": "O_i_v8NEhb9l"
      }
    },
    {
      "cell_type": "markdown",
      "source": [
        "## ***1. Know Your Data***"
      ],
      "metadata": {
        "id": "HhfV-JJviCcP"
      }
    },
    {
      "cell_type": "markdown",
      "source": [
        "### Import Libraries"
      ],
      "metadata": {
        "id": "Y3lxredqlCYt"
      }
    },
    {
      "cell_type": "code",
      "source": [
        "try:\n",
        "    import pandas as pd\n",
        "    import numpy as np\n",
        "    import matplotlib.pyplot as plt\n",
        "    import seaborn as sns\n",
        "    import warnings\n",
        "    import matplotlib.pyplot as plt\n",
        "    from matplotlib.ticker import FuncFormatter\n",
        "    warnings.filterwarnings(\"ignore\")\n",
        "    pd.set_option('display.max_columns', None)\n",
        "\n",
        "    print(\"✅ Libraries imported successfully.\")\n",
        "\n",
        "except ImportError as e:\n",
        "    print(f\"❌ Error importing libraries: {e}\")"
      ],
      "metadata": {
        "id": "M8Vqi-pPk-HR"
      },
      "execution_count": null,
      "outputs": []
    },
    {
      "cell_type": "markdown",
      "source": [
        "### Dataset Loading"
      ],
      "metadata": {
        "id": "3RnN4peoiCZX"
      }
    },
    {
      "cell_type": "code",
      "source": [
        "try:\n",
        "    file_id = \"1MfAjW-TTEIhgrAjDmMANfv7-pcoGxjCg\"\n",
        "    url = f\"https://drive.google.com/uc?export=download&id={file_id}\"\n",
        "    df = pd.read_csv(url)\n",
        "    print(f\"✅ Dataset loaded successfully!\")\n",
        "\n",
        "except FileNotFoundError:\n",
        "    print(\"❌ FileNotFoundError: The file was not found. Please check the path.\")\n",
        "\n",
        "except Exception as e:\n",
        "    print(f\"❌ Error while loading: {e}\")"
      ],
      "metadata": {
        "id": "4CkvbW_SlZ_R"
      },
      "execution_count": null,
      "outputs": []
    },
    {
      "cell_type": "code",
      "source": [
        "try:\n",
        "    print(f\"Before adding missing values: {df.shape[0]} rows and {df.shape[1]} columns\")\n",
        "    missing_columns = ['Income','Age','City_Tier','Occupation','Entertainment','Rent','Potential_Savings_Transport','Potential_Savings_Utilities']\n",
        "\n",
        "    n_rows=5000\n",
        "    missing_frac=0.40\n",
        "\n",
        "    sampled = df.sample(n=n_rows, replace=True, random_state=42).reset_index(drop=True)\n",
        "\n",
        "    np.random.seed(42)\n",
        "\n",
        "    if not missing_columns:\n",
        "      missing_columns = sampled.columns\n",
        "\n",
        "    for col in missing_columns:\n",
        "        mask = np.random.rand(n_rows) < missing_frac\n",
        "        sampled.loc[mask, col] = np.nan\n",
        "\n",
        "    new_df = pd.concat([df, sampled], ignore_index=True)\n",
        "\n",
        "    print(f\"After adding missing values: {new_df.shape[0]} rows and {new_df.shape[1]} columns\")\n",
        "    print(f\"{new_df.shape[0] - df.shape[0]} new rows added!\")\n",
        "except Exception as e:\n",
        "    print(f\"❌ Error: {e}\")"
      ],
      "metadata": {
        "id": "IlH6BksLI6d3"
      },
      "execution_count": null,
      "outputs": []
    },
    {
      "cell_type": "markdown",
      "source": [
        "### Dataset First View"
      ],
      "metadata": {
        "id": "x71ZqKXriCWQ"
      }
    },
    {
      "cell_type": "code",
      "source": [
        "try:\n",
        "    print(\"📌 Sample Data\\n\")\n",
        "    display(new_df.head(10))\n",
        "except Exception as e:\n",
        "    print(f\"❌ Error: {e}\")"
      ],
      "metadata": {
        "id": "LWNFOSvLl09H"
      },
      "execution_count": null,
      "outputs": []
    },
    {
      "cell_type": "markdown",
      "source": [
        "### Dataset Rows & Columns count"
      ],
      "metadata": {
        "id": "7hBIi_osiCS2"
      }
    },
    {
      "cell_type": "code",
      "source": [
        "try:\n",
        "    print(\"📌 Dataset Shape\\n\")\n",
        "    print(f\"Rows : {new_df.shape[0]}\")\n",
        "    print(f\"Columns : {new_df.shape[1]}\")\n",
        "except Exception as e:\n",
        "    print(f\"❌ Error: {e}\")"
      ],
      "metadata": {
        "id": "Kllu7SJgmLij"
      },
      "execution_count": null,
      "outputs": []
    },
    {
      "cell_type": "markdown",
      "source": [
        "### Dataset Information"
      ],
      "metadata": {
        "id": "JlHwYmJAmNHm"
      }
    },
    {
      "cell_type": "code",
      "source": [
        "try:\n",
        "    print(\"📌 Data Info\\n\")\n",
        "    new_df.info()\n",
        "except Exception as e:\n",
        "    print(f\"❌ Error: {e}\")\n"
      ],
      "metadata": {
        "id": "e9hRXRi6meOf"
      },
      "execution_count": null,
      "outputs": []
    },
    {
      "cell_type": "markdown",
      "source": [
        "#### Duplicate Values"
      ],
      "metadata": {
        "id": "35m5QtbWiB9F"
      }
    },
    {
      "cell_type": "code",
      "source": [
        "try:\n",
        "    print(\"📌 Duplicate Values\\n\")\n",
        "    duplicates = new_df[new_df.duplicated()]\n",
        "    duplicate_count = new_df.duplicated().sum()\n",
        "    print(f\"No. of duplicated : {duplicate_count}\\n\")\n",
        "    display(duplicates)\n",
        "except Exception as e:\n",
        "    print(f\"❌ Error while fetching duplicates: {e}\")"
      ],
      "metadata": {
        "id": "1sLdpKYkmox0"
      },
      "execution_count": null,
      "outputs": []
    },
    {
      "cell_type": "markdown",
      "source": [
        "#### Missing Values/Null Values"
      ],
      "metadata": {
        "id": "PoPl-ycgm1ru"
      }
    },
    {
      "cell_type": "code",
      "source": [
        "try:\n",
        "    print(\"📌 Missing Values\\n\")\n",
        "\n",
        "    missing_values = new_df.isnull().sum()\n",
        "    missing_values = missing_values[missing_values > 0]\n",
        "    missing_values = missing_values.reset_index().rename(columns={\"index\": \"Column\", 0: \"Count\"})\n",
        "    display(missing_values)\n",
        "\n",
        "except Exception as e:\n",
        "    print(f\"❌ Error while fetching missing values: {e}\")\n"
      ],
      "metadata": {
        "id": "GgHWkxvamxVg"
      },
      "execution_count": null,
      "outputs": []
    },
    {
      "cell_type": "code",
      "source": [
        "try:\n",
        "    plt.figure(figsize=(10,5))\n",
        "    ax = plt.bar(missing_values['Column'], missing_values['Count'], color='salmon')\n",
        "    plt.title(\"Missing Values per Column\")\n",
        "    plt.ylabel(\"Number of Missing Values\")\n",
        "    plt.xlabel(\"Columns\")\n",
        "    plt.xticks(rotation=45, ha='right')  # rotate labels for readability\n",
        "    plt.tight_layout()  # avoid cut-off labels\n",
        "    plt.show()\n",
        "\n",
        "except Exception as e:\n",
        "    print(f\"❌ Error while visualizing missing values: {e}\")\n"
      ],
      "metadata": {
        "id": "3q5wnI3om9sJ"
      },
      "execution_count": null,
      "outputs": []
    },
    {
      "cell_type": "markdown",
      "source": [
        "### What did you know about your dataset?"
      ],
      "metadata": {
        "id": "H0kj-8xxnORC"
      }
    },
    {
      "cell_type": "markdown",
      "source": [
        "➡️ Dataset Overview\n",
        "* Shape: 25,000 rows × 27 columns\n",
        "* Originally 20,000 rows, but 5,000 new rows were added (to handle/impute missing values or extend data)\n",
        "\n",
        "<br>\n",
        "\n",
        "➡️ Data Types\n",
        "* Float columns: 24 (mainly income, expenses, potential savings, etc.)\n",
        "* Integer columns: 1 (Dependents)\n",
        "* Categorical columns: 2 (Occupation, City_Tier)\n",
        "\n",
        "<br>\n",
        "\n",
        "➡️ Duplicates\n",
        "* Duplicated rows: 79\n",
        "\n",
        "<br>\n",
        "\n",
        "➡️ Missing Values\n",
        "* 8 columns have missing values\n",
        "* The missing values are moderate (~2k per column, i.e., ~8% of dataset).\n",
        "* Top missing columns:\n",
        "  * Age - 2,035 missing\n",
        "  * Potential_Savings_Transport - 2,013 missing\n",
        "  * City_Tier - 2,012 missing\n",
        "  * Income - 1,995 missing\n",
        "\n",
        "<br>\n",
        "\n",
        "➡️ Data Quality Insights\n",
        "* Fairly complete dataset – only 8 columns out of 27 have missing values.\n",
        "* Duplicates exist – 79 rows may need removal to avoid bias.\n",
        "* Income, Age, Occupation, City_Tier are crucial features with missing data – imputing them properly is important.\n",
        "* Potential savings columns are mostly complete, making them reliable for analysis.\n",
        "* Dataset size (25k) is good for segmentation, predictive modeling, and visualization without performance issues."
      ],
      "metadata": {
        "id": "gfoNAAC-nUe_"
      }
    },
    {
      "cell_type": "markdown",
      "source": [
        "## ***2. Understanding Your Variables***"
      ],
      "metadata": {
        "id": "nA9Y7ga8ng1Z"
      }
    },
    {
      "cell_type": "code",
      "source": [
        "try:\n",
        "    print(\"📌 Dataset Columns\\n\")\n",
        "    columns = new_df.columns.to_list()\n",
        "    display(columns)\n",
        "except Exception as e:\n",
        "    print(f\"❌ Error while getting columns: {e}\")"
      ],
      "metadata": {
        "id": "j7xfkqrt5Ag5"
      },
      "execution_count": null,
      "outputs": []
    },
    {
      "cell_type": "markdown",
      "source": [
        "**Income & Demographics:**\n",
        "\n",
        "* `Income`: Monthly income in currency units\n",
        "* `Age`: Age of the individual\n",
        "* `Dependents`: Number of dependents supported by the individual\n",
        "* `Occupation`: Type of employment or job role\n",
        "* `City_Tier`: A categorical variable representing the living area tier (e.g., Tier 1, Tier 2)\n",
        "\n",
        "**Monthly Expenses:**\n",
        "* Categories like `Rent`, `Loan_Repayment`, `Insurance`, `Groceries`, `Transport`, `Eating_Out`, `Entertainment`, `Utilities`, `Healthcare`, `Education`, and `Miscellaneous` record various monthly expenses\n",
        "\n",
        "**Financial Goals & Savings:**\n",
        "* `Desired_Savings_Percentage` and `Desired_Savings`: Targets for monthly savings.\n",
        "* `Disposable_Income`: Income remaining after all expenses are accounted for\n",
        "\n",
        "**Potential Savings:**\n",
        "* Includes estimates of potential savings across different spending areas such as `Potential_Savings_Groceries`, `Potential_Savings_Transport`, `Potential_Savings_Eating_Out`, `Potential_Savings_Entertainment`, `Potential_Savings_Utilities`, `Potential_Savings_Healthcare`, `Potential_Savings_Education`, and `Potential_Savings_Miscellaneous`."
      ],
      "metadata": {
        "id": "XBfim4jtr14u"
      }
    },
    {
      "cell_type": "code",
      "source": [
        "try:\n",
        "    print(\"📌 Dataset Description\\n\")\n",
        "    description = new_df.describe()\n",
        "    display(description)\n",
        "except Exception as e:\n",
        "    print(f\"❌ Error while getting description: {e}\")"
      ],
      "metadata": {
        "id": "DnOaZdaE5Q5t"
      },
      "execution_count": null,
      "outputs": []
    },
    {
      "cell_type": "markdown",
      "source": [
        "### Variables Description"
      ],
      "metadata": {
        "id": "PBTbrJXOngz2"
      }
    },
    {
      "cell_type": "markdown",
      "source": [
        "➡️ Income & Demographics\n",
        "* Columns - Income, Age, Dependents, Occupation, City_Tier\n",
        "* Average income: ₹41K/month (range ₹1.3K - ₹10.7L)\n",
        "* Average age: 41 years (18–64)\n",
        "* Dependents: ~2 family members supported\n",
        "\n",
        "➡️ Monthly Expenses\n",
        "* Columns - Rent, Loan_Repayment, Insurance, Groceries, Transport, Eating_Out, Entertainment, Utilities, Healthcare, Education, Miscellaneous\n",
        "* Biggest spends: Rent (~ ₹9.1K) and Groceries (~ ₹5.2K)\n",
        "* Other major costs: Transport (~ ₹2.7K), Education (~ ₹2.5K), Utilities (~ ₹2.5K), Healthcare (~ ₹1.7K)\n",
        "* Smaller but regular spends: Eating Out (~ ₹1.5K), Insurance (~ ₹1.4K), Entertainment (~ ₹1.4K), Miscellaneous (~ ₹800)\n",
        "\n",
        "➡️ Financial Goals & Savings\n",
        "* Columns - Desired_Savings_Percentage, Desired_Savings, Disposable_Income\n",
        "* People want to save ~ 10% of income\n",
        "* Desired savings: ~ ₹5K/month\n",
        "* Disposable income after expenses: ~ ₹10.6K, but some overspend and go negative\n",
        "\n",
        "➡️ Potential Savings\n",
        "* Columns - Potential_Savings_Groceries, Potential_Savings_Transport, Potential_Savings_Eating_Out, Potential_Savings_Entertainment, Potential_Savings_Utilities, Potential_Savings_Healthcare, Potential_Savings_Education, and Potential_Savings_Miscellaneous\n",
        "* Groceries: ₹900\n",
        "* Transport: ₹470\n",
        "* Eating Out: ₹250\n",
        "* Entertainment: ₹250\n",
        "* Utilities: ₹430\n",
        "* Smaller savings possible in Healthcare (~ ₹40), Education (~ ₹60), Misc (~ ₹140)."
      ],
      "metadata": {
        "id": "aJV4KIxSnxay"
      }
    },
    {
      "cell_type": "markdown",
      "source": [
        "### Check Unique Values for each variable."
      ],
      "metadata": {
        "id": "u3PMJOP6ngxN"
      }
    },
    {
      "cell_type": "code",
      "source": [
        "try:\n",
        "    unique_summary = []\n",
        "\n",
        "    for col in new_df.columns:\n",
        "        unique_vals = new_df[col].dropna().unique()\n",
        "        unique_summary.append({\n",
        "            \"Column\": col,\n",
        "            \"Unique_Count\": len(unique_vals),\n",
        "            \"Unique_Values\": unique_vals\n",
        "        })\n",
        "\n",
        "    unique_df = pd.DataFrame(unique_summary)\n",
        "    display(unique_df)\n",
        "\n",
        "except Exception as e:\n",
        "    print(f\"❌ Error while fetching unique values: {e}\")\n"
      ],
      "metadata": {
        "id": "zms12Yq5n-jE"
      },
      "execution_count": null,
      "outputs": []
    },
    {
      "cell_type": "markdown",
      "source": [
        "## 3. ***Data Wrangling***"
      ],
      "metadata": {
        "id": "dauF4eBmngu3"
      }
    },
    {
      "cell_type": "markdown",
      "source": [
        "### Data Wrangling Code"
      ],
      "metadata": {
        "id": "bKJF3rekwFvQ"
      }
    },
    {
      "cell_type": "code",
      "source": [
        "try:\n",
        "    print(\"=\"*70)\n",
        "    print(\"\\t\\t\\tDATA WRANGLING\")\n",
        "    print(\"=\"*70)\n",
        "\n",
        "    print(\"\\n📌 Removing Duplicates\\n\")\n",
        "    before = new_df.shape[0]\n",
        "    new_df.drop_duplicates(inplace=True)\n",
        "    after = new_df.shape[0]\n",
        "    print(f\"\\t👉 Removed {before - after} duplicate rows (Rows left: {after}).\")\n",
        "\n",
        "    print(\"\\n📌 Data Type Convertion\\n\")\n",
        "    cat_cols = ['Occupation', 'City_Tier']\n",
        "    for col in cat_cols:\n",
        "        if col in new_df.columns:\n",
        "            new_df[col] = new_df[col].astype('category')\n",
        "            print(f\"\\t👉 Converted '{col}' to 'category' type.\")\n",
        "\n",
        "    print(\"\\n📌 Handling Missing Values\\n\")\n",
        "    missing_pct = new_df.isnull().mean() * 100\n",
        "    to_fix = missing_pct[missing_pct > 0]\n",
        "\n",
        "    if to_fix.empty:\n",
        "        print(f\"\\t👉 No missing values\")\n",
        "\n",
        "    num_cols = new_df.select_dtypes(include=[np.number]).columns\n",
        "    cat_cols = new_df.select_dtypes(include=['category', 'object']).columns\n",
        "\n",
        "    for col, pct in missing_pct.items():\n",
        "        if pct == 0:\n",
        "            continue\n",
        "\n",
        "        if pct > 70:\n",
        "            new_df.drop(columns=col, inplace=True)\n",
        "            print(f\"\\t👉 Dropped '{col}' due to excessive missing values (>70%).\")\n",
        "            continue\n",
        "\n",
        "        if col in num_cols:\n",
        "            skew = new_df[col].skew(skipna=True)\n",
        "            strategy = \"median\" if abs(skew) > 1 else \"mean\"\n",
        "            fill_value = new_df[col].median() if strategy == \"median\" else new_df[col].mean()\n",
        "            new_df[col].fillna(fill_value, inplace=True)\n",
        "            print(f\"\\t👉 Filled numeric column '{col}' using {strategy} (skew={skew:.2f}).\")\n",
        "\n",
        "        elif col in cat_cols:\n",
        "            if pct > 25:\n",
        "                new_df[col].fillna(\"Unknown\", inplace=True)\n",
        "                print(f\"\\t👉 Filled categorical column '{col}' with 'Unknown'.\")\n",
        "            else:\n",
        "                mode = new_df[col].mode(dropna=True)[0]\n",
        "                new_df[col].fillna(mode, inplace=True)\n",
        "                print(f\"\\t👉 Filled categorical column '{col}' with mode: '{mode}'.\")\n",
        "\n",
        "    print(\"\\n📌 Creating New Variables\\n\")\n",
        "    new_df['Total_Expenses'] = (\n",
        "        new_df['Rent'] + new_df['Loan_Repayment'] + new_df['Insurance'] + new_df['Groceries'] +\n",
        "        new_df['Transport'] + new_df['Eating_Out'] + new_df['Entertainment'] + new_df['Utilities'] +\n",
        "        new_df['Healthcare'] + new_df['Education'] + new_df['Miscellaneous']\n",
        "    )\n",
        "\n",
        "    new_df['Potential_Savings'] = (\n",
        "        new_df['Potential_Savings_Groceries'] + new_df['Potential_Savings_Transport'] +\n",
        "        new_df['Potential_Savings_Eating_Out'] + new_df['Potential_Savings_Eating_Out'] +\n",
        "        new_df['Potential_Savings_Utilities'] + new_df['Potential_Savings_Healthcare'] +\n",
        "        new_df['Potential_Savings_Education'] + new_df['Potential_Savings_Miscellaneous']\n",
        "    )\n",
        "\n",
        "    new_df['Savings_Ratio'] = new_df['Desired_Savings'] / (new_df['Income'] + 1e-6)  # avoid divide by zero\n",
        "\n",
        "    # ----------------------\n",
        "    # Add Age Group feature\n",
        "    bins = [0, 24, 34, 44, 54, 64, 100]\n",
        "    labels = ['18-24', '25-34', '35-44', '45-54', '55-64', '65+']\n",
        "    new_df['Age_Group'] = pd.cut(new_df['Age'], bins=bins, labels=labels, right=True)\n",
        "    print(\"\\t👉 Created 'Age_Group' column.\")\n",
        "\n",
        "    print(\"\\t👉 Created 'Total_Expenses', 'Potential_Savings', 'Savings_Ratio' columns.\")\n",
        "    print(\"\\n⭐ Data wrangling completed successfully!\")\n",
        "\n",
        "except Exception as e:\n",
        "    print(f\"❌ Error during data wrangling: {e}\")\n"
      ],
      "metadata": {
        "id": "wk-9a2fpoLcV"
      },
      "execution_count": null,
      "outputs": []
    },
    {
      "cell_type": "markdown",
      "source": [
        "### What all manipulations have you done and insights you found?"
      ],
      "metadata": {
        "id": "MSa1f5Uengrz"
      }
    },
    {
      "cell_type": "markdown",
      "source": [
        "Below are the manipulations done on the dataset -\n",
        "\n",
        "➡️ **Duplicate Removal**\n",
        "* Removed 81 duplicate rows, leaving 24,919 rows for analysis\n",
        "* Ensures no repeated records distort insights\n",
        "\n",
        "➡️ **Data Type Conversion**\n",
        "* Converted Occupation and City_Tier to category type\n",
        "* Optimizes memory and makes categorical analysis more accurate\n",
        "\n",
        "➡️ **Missing Value Handling**\n",
        "* Numerical Columns:\n",
        "  * Income, Rent, Entertainment, Potential_Savings_Transport, Potential_Savings_Utilities - filled using median due to high skewness (right-skewed)\n",
        "  * Age - filled using mean since distribution is almost symmetric (skew ≈ 0)\n",
        "* Categorical Columns:\n",
        "  * Occupation - filled with mode: \"Retired\"\n",
        "  * City_Tier - filled with mode: \"Tier_2\"\n",
        "\n",
        "➡️ **New Variables Created**\n",
        "* Total_Expenses: Aggregated all spending categories (rent, groceries, entertainment, transport, etc.)\n",
        "* Savings_Ratio: Ratio of desired savings to income - key metric to assess financial discipline\n",
        "\n",
        "<br>\n",
        "\n",
        "💡 **Key Insights**\n",
        "* The dataset is now cleaner - 81 duplicate rows were removed.\n",
        "* Occupation and City Tier are now stored as categories, making the data easier to analyze.\n",
        "* Missing numbers like Income, Rent, Entertainment, Transport, and Utilities were filled using the median, since these values were skewed.\n",
        "* Missing Age values were filled with the average age, since the distribution was balanced.\n",
        "* Missing Occupation was filled with the most common job type (Retired), and missing City Tier with the most common tier (Tier_2).\n",
        "* Two new columns were created: Total Expenses (overall spending) and Savings Ratio (how much people save compared to income)."
      ],
      "metadata": {
        "id": "CdRJBy0XPxAk"
      }
    },
    {
      "cell_type": "markdown",
      "source": [
        "## ***4. Data Vizualization, Storytelling & Experimenting with charts : Understand the relationships between variables***"
      ],
      "metadata": {
        "id": "GF8Ens_Soomf"
      }
    },
    {
      "cell_type": "code",
      "source": [
        "def thousands_formatter(x, _):\n",
        "  return f\"{int(x/1000)}k\" if x >= 1000 else f\"{int(x)}\"\n",
        "\n",
        "def autopct_format(pct, allvals):\n",
        "  absolute = int(round(pct / 100.0 * sum(allvals)))\n",
        "  return f\"{absolute}\\n({pct:.1f}%)\""
      ],
      "metadata": {
        "id": "OodwL-DetF3j"
      },
      "execution_count": null,
      "outputs": []
    },
    {
      "cell_type": "markdown",
      "source": [
        "#### Chart - 1 - Distribution of Income, Total_Expenses, Disposable_Income"
      ],
      "metadata": {
        "id": "0wOQAZs5pc--"
      }
    },
    {
      "cell_type": "code",
      "source": [
        "vars_to_plot = ['Income', 'Total_Expenses', 'Disposable_Income']\n",
        "\n",
        "try:\n",
        "    fig, axes = plt.subplots(1, 3, figsize=(18, 6), sharey=True)\n",
        "\n",
        "    for ax, var in zip(axes, vars_to_plot):\n",
        "        try:\n",
        "            ax.hist(new_df[var], bins=30, edgecolor=\"black\", alpha=0.7, log=True)\n",
        "            ax.set_title(f\"Distribution of {var} (Log Scale)\", fontsize=12, fontweight=\"bold\")\n",
        "            ax.set_xlabel(f\"{var} (Currency Units)\", fontsize=10)\n",
        "            ax.grid(axis=\"y\", linestyle=\"--\", alpha=0.6)\n",
        "            ax.xaxis.set_major_formatter(FuncFormatter(thousands_formatter))\n",
        "            ax.yaxis.set_major_formatter(FuncFormatter(lambda y, _: f\"{int(y):,}\"))\n",
        "        except Exception as e:\n",
        "            print(f\"⚠️ Could not plot {var}: {e}\")\n",
        "\n",
        "    fig.text(0, 0.5, \"Number of Individuals (Log Scale)\", va='center', rotation='vertical', fontsize=12)\n",
        "    fig.suptitle(\"Income and Expense Distributions (Log-Scaled)\", fontsize=14, fontweight=\"bold\")\n",
        "    plt.tight_layout()\n",
        "    plt.show()\n",
        "\n",
        "except Exception as e:\n",
        "    print(f\"❌ Failed to generate plots: {e}\")"
      ],
      "metadata": {
        "id": "7v_ESjsspbW7"
      },
      "execution_count": null,
      "outputs": []
    },
    {
      "cell_type": "markdown",
      "source": [
        "##### 1. Why did you pick the specific chart?"
      ],
      "metadata": {
        "id": "K5QZ13OEpz2H"
      }
    },
    {
      "cell_type": "markdown",
      "source": [
        "* Histograms with log-scaled y-axis are best to show skewed financial data (like income and expenses)\n",
        "* Helps reveal hidden patterns in rare but extreme values (outliers)\n",
        "* Allows fair comparison between low, mid, and very high values in the dataset"
      ],
      "metadata": {
        "id": "XESiWehPqBRc"
      }
    },
    {
      "cell_type": "markdown",
      "source": [
        "##### 2. What is/are the insight(s) found from the chart?"
      ],
      "metadata": {
        "id": "lQ7QKXXCp7Bj"
      }
    },
    {
      "cell_type": "markdown",
      "source": [
        "* Majority of individuals earn and spend in the lower-to-mid ranges (strong left skew)\n",
        "* Very few individuals have extremely high income/expenses, but they create outliers\n",
        "* Disposable income distribution is concentrated at lower ranges, meaning most people have limited financial buffer"
      ],
      "metadata": {
        "id": "C_j1G7yiqdRP"
      }
    },
    {
      "cell_type": "markdown",
      "source": [
        "##### 3. Will the gained insights help creating a positive business impact?\n",
        "Are there any insights that lead to negative growth? Justify with specific reason."
      ],
      "metadata": {
        "id": "448CDAPjqfQr"
      }
    },
    {
      "cell_type": "markdown",
      "source": [
        "Positive Impact:\n",
        "* Highlights that most individuals fall into low-to-mid income and expense ranges, helping define the typical customer profile\n",
        "* Enables businesses to design financial products like budgeting tools, credit risk monitoring, and affordable savings plans targeted at the majority\n",
        "* Since disposable income is generally low, there’s a clear opportunity to promote financial literacy and financial crisis prevention solutions\n",
        "\n",
        "Possible Negative Impact:\n",
        "* Very few individuals have high income or high disposable income, limiting opportunities for premium financial products\n",
        "* Skewed distributions indicate that business growth will largely rely on serving mass-market customers, not high-value clients"
      ],
      "metadata": {
        "id": "3cspy4FjqxJW"
      }
    },
    {
      "cell_type": "markdown",
      "source": [
        "#### Chart - 2 - Categorical Variable Distributions (Counts & Percentages)"
      ],
      "metadata": {
        "id": "KSlN3yHqYklG"
      }
    },
    {
      "cell_type": "code",
      "source": [
        "categorical_vars = ['Occupation', 'City_Tier', 'Dependents', 'Age_Group']\n",
        "\n",
        "try:\n",
        "    fig, axes = plt.subplots(1, len(categorical_vars), figsize=(18, 6))\n",
        "    axes = axes.flatten()\n",
        "\n",
        "    for ax, cat in zip(axes, categorical_vars):\n",
        "        if cat not in new_df.columns or new_df[cat].dropna().empty:\n",
        "            ax.set_title(f\"No data for {cat}\", fontsize=12)\n",
        "            ax.axis(\"off\")\n",
        "            continue\n",
        "\n",
        "        counts = new_df[cat].value_counts()\n",
        "\n",
        "        wedges, texts, autotexts = ax.pie(\n",
        "            counts,\n",
        "            labels=counts.index,\n",
        "            autopct=lambda pct: autopct_format(pct, counts),\n",
        "            startangle=90,\n",
        "            colors=plt.cm.Set2.colors,\n",
        "            textprops={'fontsize': 10}\n",
        "        )\n",
        "\n",
        "        ax.axis('equal')\n",
        "        ax.set_title(f\"Distribution of {cat}\", fontsize=12)\n",
        "\n",
        "    plt.suptitle(\"Categorical Variable Distributions (Counts & Percentages)\",\n",
        "                 fontsize=16, fontweight='bold', y=1.02)\n",
        "    plt.tight_layout()\n",
        "    plt.show()\n",
        "\n",
        "except Exception as e:\n",
        "    print(f\"❌ Error while generating charts: {e}\")"
      ],
      "metadata": {
        "id": "R4YgtaqtYklH"
      },
      "execution_count": null,
      "outputs": []
    },
    {
      "cell_type": "markdown",
      "source": [
        "##### 1. Why did you pick the specific chart?"
      ],
      "metadata": {
        "id": "t6dVpIINYklI"
      }
    },
    {
      "cell_type": "markdown",
      "source": [
        "* Pie charts with percentages are effective for showing categorical variable distributions\n",
        "* They quickly highlight proportions across different categories (occupation, city tier, dependents, and age group)\n",
        "* Easy to compare segment sizes and spot dominant categories."
      ],
      "metadata": {
        "id": "5aaW0BYyYklI"
      }
    },
    {
      "cell_type": "markdown",
      "source": [
        "##### 2. What is/are the insight(s) found from the chart?"
      ],
      "metadata": {
        "id": "ijmpgYnKYklI"
      }
    },
    {
      "cell_type": "markdown",
      "source": [
        "* Occupation: Retired individuals form the largest group (\\~31%), followed by almost equal shares of professionals, students, and self-employed (\\~23% each).\n",
        "* City Tier: Majority live in Tier-2 cities (54%), with Tier-1 and Tier-3 being smaller segments.\n",
        "* Dependents: Even distribution across 0-4 dependents (~20% each), meaning no single dependent category dominates.\n",
        "* Age Group: Largest age group is 35-44 (~28%), while younger adults (18-24)  are small segments, and older (65+) are non-existent."
      ],
      "metadata": {
        "id": "PSx9atu2YklI"
      }
    },
    {
      "cell_type": "markdown",
      "source": [
        "##### 3. Will the gained insights help creating a positive business impact?\n",
        "Are there any insights that lead to negative growth? Justify with specific reason."
      ],
      "metadata": {
        "id": "-JiQyfWJYklI"
      }
    },
    {
      "cell_type": "markdown",
      "source": [
        "Positive Impact:\n",
        "* Clear customer concentration in Tier-2 cities and 35-44 age group - businesses can target middle-aged, Tier-2 city residents for most impact\n",
        "* Balanced distribution of dependents suggests opportunities to design financial tools for both singles and families\n",
        "* Occupation spread (retired + working groups) provides scope for both retirement planning products and income management tools\n",
        "\n",
        "Possible Negative Impact:\n",
        "* Small share of young adults (18-24) may reduce long-term growth potential for youth-focused financial products\n",
        "* Heavy concentration in Tier-2 cities could limit expansion into Tier-1 premium or Tier-3 underserved markets\n",
        "* High proportion of retirees might mean lower adoption of digital-first or risk-heavy financial products"
      ],
      "metadata": {
        "id": "BcBbebzrYklV"
      }
    },
    {
      "cell_type": "markdown",
      "source": [
        "#### Chart - 3 - Distribution of Desired vs Potential Savings"
      ],
      "metadata": {
        "id": "EM7whBJCYoAo"
      }
    },
    {
      "cell_type": "code",
      "source": [
        "try:\n",
        "    if 'Desired_Savings' not in new_df.columns or 'Potential_Savings' not in new_df.columns:\n",
        "        raise KeyError(\"One or both required columns are missing: 'Desired_Savings', 'Potential_Savings'\")\n",
        "\n",
        "    desired = new_df['Desired_Savings'].dropna()\n",
        "    potential = new_df['Potential_Savings'].dropna()\n",
        "\n",
        "    if desired.empty and potential.empty:\n",
        "        raise ValueError(\"Both 'Desired_Savings' and 'Potential_Savings' have no valid data.\")\n",
        "\n",
        "    fig, axes = plt.subplots(1, 2, figsize=(14, 5))\n",
        "\n",
        "    axes[0].hist(desired, bins=30, edgecolor='black', alpha=0.7)\n",
        "    axes[0].set_title(\"Desired Savings\", fontsize=14, fontweight='bold')\n",
        "    axes[0].set_xlabel(\"Amount (Currency Units)\", fontsize=12)\n",
        "    axes[0].set_ylabel(\"Number of Individuals\", fontsize=12)\n",
        "    axes[0].xaxis.set_major_formatter(FuncFormatter(thousands_formatter))\n",
        "    axes[0].grid(axis='y', linestyle='--', alpha=0.6)\n",
        "\n",
        "    axes[1].hist(potential, bins=30, edgecolor='black', alpha=0.7, color='orange')\n",
        "    axes[1].set_title(\"Potential Savings\", fontsize=14, fontweight='bold')\n",
        "    axes[1].set_xlabel(\"Amount (Currency Units)\", fontsize=12)\n",
        "    axes[1].set_ylabel(\"Number of Individuals\", fontsize=12)\n",
        "    axes[1].xaxis.set_major_formatter(FuncFormatter(thousands_formatter))\n",
        "    axes[1].grid(axis='y', linestyle='--', alpha=0.6)\n",
        "\n",
        "    plt.suptitle(\"Distribution of Desired vs Potential Savings\", fontsize=16, fontweight='bold', y=1.03)\n",
        "    plt.tight_layout()\n",
        "    plt.show()\n",
        "\n",
        "except KeyError as e:\n",
        "    print(f\"❌ Column not found: {e}\")\n",
        "except ValueError as e:\n",
        "    print(f\"❌ Data issue: {e}\")\n",
        "except Exception as e:\n",
        "    print(f\"❌ Error while generating charts : {e}\")\n"
      ],
      "metadata": {
        "id": "t6GMdE67YoAp"
      },
      "execution_count": null,
      "outputs": []
    },
    {
      "cell_type": "markdown",
      "source": [
        "##### 1. Why did you pick the specific chart?"
      ],
      "metadata": {
        "id": "fge-S5ZAYoAp"
      }
    },
    {
      "cell_type": "markdown",
      "source": [
        "* Side-by-side histograms clearly show the gap between what people want to save vs what they can actually save\n",
        "* Helps identify savings behavior patterns crucial for financial crisis prediction"
      ],
      "metadata": {
        "id": "5dBItgRVYoAp"
      }
    },
    {
      "cell_type": "markdown",
      "source": [
        "##### 2. What is/are the insight(s) found from the chart?"
      ],
      "metadata": {
        "id": "85gYPyotYoAp"
      }
    },
    {
      "cell_type": "markdown",
      "source": [
        "* Most people desire very low savings (concentrated near 0), showing unrealistic or survival-mode financial planning\n",
        "* Potential savings are even more concentrated at zero, meaning most people have no buffer for emergencies\n",
        "* Huge gap between desired and potential savings indicates widespread financial stress\n",
        "* Very few people can save substantial amounts (long tail in both distributions)"
      ],
      "metadata": {
        "id": "4jstXR6OYoAp"
      }
    },
    {
      "cell_type": "markdown",
      "source": [
        "##### 3. Will the gained insights help creating a positive business impact?\n",
        "Are there any insights that lead to negative growth? Justify with specific reason."
      ],
      "metadata": {
        "id": "RoGjAbkUYoAp"
      }
    },
    {
      "cell_type": "markdown",
      "source": [
        "Positive Impact:\n",
        "* Clear identification of high-risk users: those with zero or very low potential savings are prime candidates for financial crisis\n",
        "* Can create targeted alerts for users showing this savings gap pattern\n",
        "* Helps build accurate risk scoring by using savings capacity as a key feature in ML model\n",
        "\n",
        "Possible Negative Impact:\n",
        "* Most users have very limited or zero savings potential, meaning they may not afford premium financial services\n",
        "* High concentration of financially stressed users could lead to higher default rates if offering credit products\n",
        "* Limited market for savings-based products since most people cannot save meaningfully"
      ],
      "metadata": {
        "id": "zfJ8IqMcYoAp"
      }
    },
    {
      "cell_type": "markdown",
      "source": [
        "#### Chart - 4 - Average Distribution of Individual Expenses"
      ],
      "metadata": {
        "id": "bamQiAODYuh1"
      }
    },
    {
      "cell_type": "code",
      "source": [
        "try:\n",
        "    expense_cols = ['Rent', 'Loan_Repayment', 'Insurance', 'Groceries', 'Transport', 'Eating_Out', 'Entertainment', 'Utilities', 'Healthcare', 'Education', 'Miscellaneous']\n",
        "\n",
        "    missing_cols = [col for col in expense_cols if col not in new_df.columns]\n",
        "    if missing_cols:\n",
        "        raise KeyError(f\"Missing required columns: {missing_cols}\")\n",
        "\n",
        "    df_expenses = new_df[expense_cols].melt(\n",
        "        var_name=\"Expense_Type\",\n",
        "        value_name=\"Amount\"\n",
        "    )\n",
        "\n",
        "    if df_expenses.empty:\n",
        "        raise ValueError(\"No expense data available\")\n",
        "\n",
        "    plt.figure(figsize=(12, 5))\n",
        "    ax = sns.barplot(y=\"Expense_Type\", x=\"Amount\", data=df_expenses, estimator=np.mean, ci=None, palette=\"Set2\")\n",
        "\n",
        "    for p in ax.patches:\n",
        "        width = p.get_width()\n",
        "        ax.text(\n",
        "            width + 100,\n",
        "            p.get_y() + p.get_height() / 2.,\n",
        "            f'{width:,.0f}',\n",
        "            ha='left', va='center', fontsize=9, color='black'\n",
        "        )\n",
        "\n",
        "    plt.suptitle(\"Average Distribution of Individual Expenses\", fontsize=16, fontweight='bold', y=1.02)\n",
        "    plt.xlabel(\"Average Expense\", fontsize=12)\n",
        "    plt.ylabel(\"Expense Type\", fontsize=12)\n",
        "    plt.tight_layout()\n",
        "    plt.show()\n",
        "\n",
        "except KeyError as e:\n",
        "    print(f\"❌ Column not found: {e}\")\n",
        "except ValueError as e:\n",
        "    print(f\"❌ Data issue: {e}\")\n",
        "except Exception as e:\n",
        "    print(f\"❌ Error while generating charts : {e}\")\n"
      ],
      "metadata": {
        "id": "TIJwrbroYuh3"
      },
      "execution_count": null,
      "outputs": []
    },
    {
      "cell_type": "markdown",
      "source": [
        "##### 1. Why did you pick the specific chart?"
      ],
      "metadata": {
        "id": "QHF8YVU7Yuh3"
      }
    },
    {
      "cell_type": "markdown",
      "source": [
        "* Horizontal bar chart clearly shows expense categories ranked by average spending amounts\n",
        "* Helps identify which expense types consume the most income and create financial stress"
      ],
      "metadata": {
        "id": "dcxuIMRPYuh3"
      }
    },
    {
      "cell_type": "markdown",
      "source": [
        "##### 2. What is/are the insight(s) found from the chart?"
      ],
      "metadata": {
        "id": "GwzvFGzlYuh3"
      }
    },
    {
      "cell_type": "markdown",
      "source": [
        "* Rent dominates expenses at 8,881 - nearly double the next highest category (Groceries at 5,191)\n",
        "* Fixed expenses (Rent, Utilities, Insurance, Loan Repayment) make up significant portion of spending\n",
        "* Discretionary expenses (Entertainment, Eating Out) are relatively low, showing people already cutting non-essentials\n",
        "* Healthcare and Education are moderate but important expense categories"
      ],
      "metadata": {
        "id": "uyqkiB8YYuh3"
      }
    },
    {
      "cell_type": "markdown",
      "source": [
        "##### 3. Will the gained insights help creating a positive business impact?\n",
        "Are there any insights that lead to negative growth? Justify with specific reason."
      ],
      "metadata": {
        "id": "qYpmQ266Yuh3"
      }
    },
    {
      "cell_type": "markdown",
      "source": [
        "Positive Impact:\n",
        "* People who spend a large part of their income on rent and groceries may be at higher financial risk.\n",
        "* If essential expenses are too high compared to income, the person may struggle to save or handle emergencies.\n",
        "\n",
        "Possible Negative Impact:\n",
        "* Since most money goes to fixed needs like rent and groceries, there is less money left for savings or other expenses.\n",
        "* This means people have less flexibility to cut costs if something unexpected happens, which can push them into financial trouble."
      ],
      "metadata": {
        "id": "_WtzZ_hCYuh4"
      }
    },
    {
      "cell_type": "markdown",
      "source": [
        "#### Chart - 5 - Individual Potential Savings Distribution"
      ],
      "metadata": {
        "id": "OH-pJp9IphqM"
      }
    },
    {
      "cell_type": "code",
      "source": [
        "import matplotlib.pyplot as plt\n",
        "import seaborn as sns\n",
        "import numpy as np\n",
        "\n",
        "try:\n",
        "    potential_savings_cols = ['Potential_Savings_Groceries', 'Potential_Savings_Transport', 'Potential_Savings_Eating_Out', 'Potential_Savings_Entertainment', 'Potential_Savings_Utilities', 'Potential_Savings_Healthcare', 'Potential_Savings_Education', 'Potential_Savings_Miscellaneous']\n",
        "\n",
        "    y_labels = ['Groceries', 'Transport', 'Eating Out', 'Entertainment', 'Utilities', 'Healthcare', 'Education', 'Miscellaneous']\n",
        "\n",
        "    missing_cols = [col for col in potential_savings_cols if col not in new_df.columns]\n",
        "    if missing_cols:\n",
        "        raise KeyError(f\"Missing required columns: {missing_cols}\")\n",
        "\n",
        "    df_pot_savings = new_df[potential_savings_cols].melt(var_name=\"Potential_Savings\", value_name=\"Amount\")\n",
        "\n",
        "    if df_pot_savings.empty:\n",
        "        raise ValueError(\"No potential savings data available after melting.\")\n",
        "\n",
        "    plt.figure(figsize=(11, 5))\n",
        "    ax = sns.barplot(y=\"Potential_Savings\", x=\"Amount\", data=df_pot_savings, estimator=np.mean, ci=None, palette=\"Set2\")\n",
        "\n",
        "    for p in ax.patches:\n",
        "        width = p.get_width()\n",
        "        ax.text(\n",
        "            width + 10,\n",
        "            p.get_y() + p.get_height() / 2.,\n",
        "            f'{width:,.0f}',\n",
        "            ha='left', va='center',\n",
        "            fontsize=9, color='black'\n",
        "        )\n",
        "\n",
        "    ax.set_yticklabels(y_labels)\n",
        "    plt.suptitle(\"Average Potential Savings Across Categories\", fontsize=16, fontweight='bold', y=1.02)\n",
        "    plt.xlabel(\"Average Potential Savings\", fontsize=12)\n",
        "    plt.ylabel(\"Savings Type\", fontsize=12)\n",
        "    plt.tight_layout()\n",
        "    plt.show()\n",
        "\n",
        "except KeyError as e:\n",
        "    print(f\"❌ Column not found: {e}\")\n",
        "except ValueError as e:\n",
        "    print(f\"❌ Data issue: {e}\")\n",
        "except Exception as e:\n",
        "    print(f\"❌ Unexpected error: {e}\")\n"
      ],
      "metadata": {
        "id": "kuRf4wtuphqN"
      },
      "execution_count": null,
      "outputs": []
    },
    {
      "cell_type": "markdown",
      "source": [
        "##### 1. Why did you pick the specific chart?"
      ],
      "metadata": {
        "id": "bbFf2-_FphqN"
      }
    },
    {
      "cell_type": "markdown",
      "source": [
        "* A bar chart clearly shows which areas people can save the most money in if they manage their expenses better."
      ],
      "metadata": {
        "id": "loh7H2nzphqN"
      }
    },
    {
      "cell_type": "markdown",
      "source": [
        "##### 2. What is/are the insight(s) found from the chart?"
      ],
      "metadata": {
        "id": "_ouA3fa0phqN"
      }
    },
    {
      "cell_type": "markdown",
      "source": [
        "* The biggest saving opportunity is in Groceries (₹908).\n",
        "* Other good saving areas are Transport (₹459) and Utilities (₹423).\n",
        "* Small savings can be made in Healthcare, Education, and Miscellaneous, but they don’t add much.\n",
        "* Eating Out and Entertainment also have some scope for savings (₹254 each)."
      ],
      "metadata": {
        "id": "VECbqPI7phqN"
      }
    },
    {
      "cell_type": "markdown",
      "source": [
        "##### 3. Will the gained insights help creating a positive business impact?\n",
        "Are there any insights that lead to negative growth? Justify with specific reason."
      ],
      "metadata": {
        "id": "Seke61FWphqN"
      }
    },
    {
      "cell_type": "markdown",
      "source": [
        "Positive Impact:\n",
        "* If a person has higher potential savings in essential areas (like groceries or transport), it means they may be overspending there.\n",
        "* People who do not adjust these expenses may struggle to save, which increases their financial risk.\n",
        "* These insights can help the model understand how much flexibility a person has to cut costs in tough situations.\n",
        "\n",
        "Possible Negative Impact:\n",
        "* If someone has very low saving potential (like in Healthcare or Education), it means they already spend at the minimum level.\n",
        "* This makes it harder for them to reduce expenses further, so they are more vulnerable to financial trouble if income drops or emergencies occur."
      ],
      "metadata": {
        "id": "DW4_bGpfphqN"
      }
    },
    {
      "cell_type": "markdown",
      "source": [
        "#### Chart - 6 - Income Distribution Across Demographic Variables"
      ],
      "metadata": {
        "id": "PIIx-8_IphqN"
      }
    },
    {
      "cell_type": "code",
      "source": [
        "try:\n",
        "    demographic_cols = ['Occupation', 'City_Tier', 'Dependents', 'Age_Group']\n",
        "    missing_cols = [col for col in demographic_cols + ['Income'] if col not in new_df.columns]\n",
        "    if missing_cols:\n",
        "        raise KeyError(f\"Missing required columns: {missing_cols}\")\n",
        "\n",
        "    fig, axes = plt.subplots(2, 2, figsize=(16, 12))\n",
        "    axes = axes.flatten()\n",
        "\n",
        "    for i, col in enumerate(demographic_cols):\n",
        "        sns.boxplot(x=col, y='Income', data=new_df, ax=axes[i], palette='Set3')\n",
        "        axes[i].set_title(f\"Income vs {col}\", fontsize=14, fontweight='bold')\n",
        "        axes[i].set_xlabel(col, fontsize=12)\n",
        "        axes[i].set_ylabel(\"Income (Currency Units)\", fontsize=12)\n",
        "        axes[i].tick_params(axis='x', rotation=0)\n",
        "        axes[i].grid(axis='y', linestyle='--', alpha=0.6)\n",
        "        axes[i].set_yscale('log')\n",
        "        axes[i].yaxis.set_major_formatter(FuncFormatter(thousands_formatter))\n",
        "\n",
        "    plt.suptitle(\"Income Distribution Across Demographic Variables\", fontsize=16, fontweight='bold', y=1.02)\n",
        "    plt.tight_layout()\n",
        "    plt.show()\n",
        "\n",
        "except KeyError as e:\n",
        "    print(f\"❌ Column not found: {e}\")\n",
        "except Exception as e:\n",
        "    print(f\"❌ Error: {e}\")"
      ],
      "metadata": {
        "id": "lqAIGUfyphqO"
      },
      "execution_count": null,
      "outputs": []
    },
    {
      "cell_type": "markdown",
      "source": [
        "##### 1. Why did you pick the specific chart?"
      ],
      "metadata": {
        "id": "t27r6nlMphqO"
      }
    },
    {
      "cell_type": "markdown",
      "source": [
        "* Box plots with log scale show income patterns across different groups of people\n",
        "* Helps identify which demographics are more likely to face financial problems\n",
        "* Shows income spread and outliers within each group for better risk assessment"
      ],
      "metadata": {
        "id": "iv6ro40sphqO"
      }
    },
    {
      "cell_type": "markdown",
      "source": [
        "##### 2. What is/are the insight(s) found from the chart?"
      ],
      "metadata": {
        "id": "r2jJGEOYphqO"
      }
    },
    {
      "cell_type": "markdown",
      "source": [
        "* All occupation groups have similar median incomes - no major difference between jobs\n",
        "* City tiers don't show big income differences - location doesn't strongly affect earnings\n",
        "* More dependents don't significantly change income levels - family size isn't tied to higher pay\n",
        "* Age groups show fairly similar income patterns across all ages\n",
        "* High income outliers exist in all categories but most people earn in the middle range\n",
        "* Income distribution is quite even across demographics - other factors matter more for financial risk"
      ],
      "metadata": {
        "id": "Po6ZPi4hphqO"
      }
    },
    {
      "cell_type": "markdown",
      "source": [
        "##### 3. Will the gained insights help creating a positive business impact?\n",
        "Are there any insights that lead to negative growth? Justify with specific reason."
      ],
      "metadata": {
        "id": "b0JNsNcRphqO"
      }
    },
    {
      "cell_type": "markdown",
      "source": [
        "Positive Impact:\n",
        "* Since demographics don't strongly predict income, the model should focus more on spending patterns and savings behavior\n",
        "* Can treat all demographic groups equally when assessing financial risk\n",
        "* Helps avoid bias based on job type, location, family size, or age when predicting crisis risk\n",
        "* Shows that financial problems can happen to anyone regardless of background\n",
        "\n",
        "Possible Negative Impact:\n",
        "* Can't use demographic shortcuts to quickly identify high-risk groups\n",
        "* Need more detailed financial data since basic demographics don't reveal much about money problems\n",
        "* Marketing and targeting becomes harder since all groups look similar income-wise\n",
        "* May need more complex analysis since simple demographic rules won't work for risk prediction"
      ],
      "metadata": {
        "id": "xvSq8iUTphqO"
      }
    },
    {
      "cell_type": "markdown",
      "source": [
        "#### Chart - 7 - Total Expenses Distribution Across Demographic Variables"
      ],
      "metadata": {
        "id": "4Of9eVA-YrdM"
      }
    },
    {
      "cell_type": "code",
      "source": [
        "try:\n",
        "    demographic_cols = ['Occupation', 'City_Tier', 'Dependents', 'Age_Group']\n",
        "    required_cols = demographic_cols + ['Total_Expenses']\n",
        "    missing_cols = [col for col in required_cols if col not in new_df.columns]\n",
        "    if missing_cols:\n",
        "        raise KeyError(f\"Missing required columns: {missing_cols}\")\n",
        "\n",
        "    fig, axes = plt.subplots(2, 2, figsize=(16, 12))\n",
        "    axes = axes.flatten()\n",
        "\n",
        "    for i, col in enumerate(demographic_cols):\n",
        "        sns.violinplot(x=col, y='Total_Expenses', data=new_df, ax=axes[i], palette='Set2', inner='quartile')\n",
        "        axes[i].set_title(f\"Total Expenses vs {col}\", fontsize=14, fontweight='bold')\n",
        "        axes[i].set_xlabel(col, fontsize=12)\n",
        "        axes[i].set_ylabel(\"Total Expenses (Currency Units)\", fontsize=12)\n",
        "        axes[i].tick_params(axis='x', rotation=0)\n",
        "        axes[i].grid(axis='y', linestyle='--', alpha=0.6)\n",
        "        axes[i].set_yscale('log')\n",
        "        axes[i].yaxis.set_major_formatter(FuncFormatter(thousands_formatter))\n",
        "\n",
        "    plt.suptitle(\"Total Expenses Distribution Across Demographic Variables\", fontsize=16, fontweight='bold', y=1.02)\n",
        "    plt.tight_layout()\n",
        "    plt.show()\n",
        "\n",
        "except KeyError as e:\n",
        "    print(f\"❌ Column not found: {e}\")\n",
        "except Exception as e:\n",
        "    print(f\"❌ Error: {e}\")"
      ],
      "metadata": {
        "id": "irlUoxc8YrdO"
      },
      "execution_count": null,
      "outputs": []
    },
    {
      "cell_type": "markdown",
      "source": [
        "##### 1. Why did you pick the specific chart?"
      ],
      "metadata": {
        "id": "iky9q4vBYrdO"
      }
    },
    {
      "cell_type": "markdown",
      "source": [
        "* Violin plots show both the average and spread of expenses across different groups\n",
        "* Helps see if certain demographics spend more money and are at higher financial risk\n",
        "* Shows the full distribution of spending patterns, not just averages"
      ],
      "metadata": {
        "id": "aJRCwT6DYrdO"
      }
    },
    {
      "cell_type": "markdown",
      "source": [
        "##### 2. What is/are the insight(s) found from the chart?"
      ],
      "metadata": {
        "id": "F6T5p64dYrdO"
      }
    },
    {
      "cell_type": "markdown",
      "source": [
        "* All occupation groups have very similar expense patterns - job type doesn't affect spending much\n",
        "* City tiers show nearly identical expense distributions - living in different cities costs about the same\n",
        "* Number of dependents doesn't dramatically change total expenses - families don't spend proportionally more\n",
        "* Age groups all have similar expense patterns - younger and older people spend similarly\n",
        "* Most people across all groups spend in the 10k-30k range regardless of demographics\n",
        "* Expense patterns are remarkably consistent across all demographic categories"
      ],
      "metadata": {
        "id": "Xx8WAJvtYrdO"
      }
    },
    {
      "cell_type": "markdown",
      "source": [
        "##### 3. Will the gained insights help creating a positive business impact?\n",
        "Are there any insights that lead to negative growth? Justify with specific reason."
      ],
      "metadata": {
        "id": "y-Ehk30pYrdP"
      }
    },
    {
      "cell_type": "markdown",
      "source": [
        "Positive Impact:\n",
        "* Focus should be on individual financial behavior rather than group stereotypes as demographics don't predict spending patterns\n",
        "* Can create universal financial advice tools that work for everyone regardless of background\n",
        "* Helps avoid discrimination and ensures fair treatment across all demographic groups\n",
        "* Shows that financial crisis risk depends on personal habits, not demographic characteristics\n",
        "\n",
        "Possible Negative Impact:\n",
        "* Can't use simple demographic rules to quickly identify high spenders or financial risk groups\n",
        "* Marketing becomes more challenging since all demographic segments look the same\n",
        "* Need more sophisticated analysis since basic demographic information won't help predict expenses\n",
        "* May require more detailed personal financial data collection to build effective risk models"
      ],
      "metadata": {
        "id": "jLNxxz7MYrdP"
      }
    },
    {
      "cell_type": "markdown",
      "source": [
        "#### Chart - 8 Mean Disposable Income Across Demographic Categories"
      ],
      "metadata": {
        "id": "BZR9WyysphqO"
      }
    },
    {
      "cell_type": "code",
      "source": [
        "try:\n",
        "    demographic_cols = ['Occupation', 'City_Tier', 'Dependents', 'Age_Group']\n",
        "    required_cols = demographic_cols + ['Disposable_Income']\n",
        "\n",
        "    missing_cols = [col for col in required_cols if col not in new_df.columns]\n",
        "    if missing_cols:\n",
        "        raise KeyError(f\"Missing required columns: {missing_cols}\")\n",
        "\n",
        "    if new_df['Disposable_Income'].dropna().empty:\n",
        "        raise ValueError(\"No valid data in 'Disposable_Income' column.\")\n",
        "\n",
        "    fig, axes = plt.subplots(2, 2, figsize=(16, 12))\n",
        "    axes = axes.flatten()\n",
        "\n",
        "    for i, col in enumerate(demographic_cols):\n",
        "        ax = axes[i]\n",
        "        sns.barplot(x=col, y='Disposable_Income', data=new_df, ax=ax, palette='Set2', edgecolor=\"none\", linewidth=0, ci=None)\n",
        "\n",
        "        for p in ax.patches:\n",
        "            height = p.get_height()\n",
        "            if not np.isnan(height) and height > 0:\n",
        "                ax.annotate(\n",
        "                    f\"{int(height):,}\",\n",
        "                    (p.get_x() + p.get_width() / 2., height),\n",
        "                    ha='center',\n",
        "                    va='bottom',\n",
        "                    fontsize=10,\n",
        "                    color='black'\n",
        "                )\n",
        "\n",
        "        ax.set_title(f\"Average Disposable Income by {col}\", fontsize=14, fontweight='bold')\n",
        "        ax.set_xlabel(col, fontsize=12)\n",
        "        ax.set_ylabel(\"Disposable Income (Currency Units)\", fontsize=12)\n",
        "        ax.tick_params(axis='x', rotation=0)\n",
        "        ax.yaxis.set_major_formatter(FuncFormatter(thousands_formatter))\n",
        "        ax.grid(axis='y', linestyle='--', alpha=0.6)\n",
        "\n",
        "    fig.suptitle(\"Mean Disposable Income Across Demographic Categories\", fontsize=16, fontweight='bold', y=1.02)\n",
        "    plt.tight_layout()\n",
        "    plt.show()\n",
        "\n",
        "except KeyError as e:\n",
        "    print(f\"❌ Column not found: {e}\")\n",
        "except ValueError as e:\n",
        "    print(f\"❌ Data issue: {e}\")\n",
        "except Exception as e:\n",
        "    print(f\"❌ Unexpected error: {e}\")\n"
      ],
      "metadata": {
        "id": "TdPTWpAVphqO"
      },
      "execution_count": null,
      "outputs": []
    },
    {
      "cell_type": "markdown",
      "source": [
        "##### 1. Why did you pick the specific chart?"
      ],
      "metadata": {
        "id": "jj7wYXLtphqO"
      }
    },
    {
      "cell_type": "markdown",
      "source": [
        "* Bar charts clearly show average disposable income (money left after expenses) across different groups\n",
        "* Disposable income is the best indicator of financial safety - shows who has money for emergencies\n",
        "* Helps identify which demographics are most at risk of financial crisis"
      ],
      "metadata": {
        "id": "Ob8u6rCTphqO"
      }
    },
    {
      "cell_type": "markdown",
      "source": [
        "##### 2. What is/are the insight(s) found from the chart?"
      ],
      "metadata": {
        "id": "eZrbJ2SmphqO"
      }
    },
    {
      "cell_type": "markdown",
      "source": [
        "* All occupations have very similar disposable income around 10k - job type doesn't matter much\n",
        "* Tier 3 cities have almost double the disposable income (13,753) compared to Tier 1 cities (7,122)\n",
        "* People with no dependents have much higher disposable income (13,098) vs those with families (around 10k)\n",
        "* Age groups show very similar disposable income patterns - age doesn't affect financial buffer much\n",
        "* City tier makes the biggest difference - living in smaller cities leaves more money available"
      ],
      "metadata": {
        "id": "mZtgC_hjphqO"
      }
    },
    {
      "cell_type": "markdown",
      "source": [
        "##### 3. Will the gained insights help creating a positive business impact?\n",
        "Are there any insights that lead to negative growth? Justify with specific reason."
      ],
      "metadata": {
        "id": "rFu4xreNphqO"
      }
    },
    {
      "cell_type": "markdown",
      "source": [
        "Positive Impact:\n",
        "* Can target Tier 1 city residents as higher financial crisis risk due to lower disposable income\n",
        "* People with dependents need more financial safety net products and emergency planning\n",
        "* Tier 3 city residents have more capacity for savings and investment products\n",
        "* Can create location-specific financial advice based on cost of living differences\n",
        "\n",
        "Possible Negative Impact:\n",
        "* Tier 1 city residents have less money available for financial products and services\n",
        "* People with families have limited disposable income, reducing market for premium offerings"
      ],
      "metadata": {
        "id": "ey_0qi68phqO"
      }
    },
    {
      "cell_type": "markdown",
      "source": [
        "#### Chart - 9 Average Potential Savings Across Demographic Categories"
      ],
      "metadata": {
        "id": "YJ55k-q6phqO"
      }
    },
    {
      "cell_type": "code",
      "source": [
        "try:\n",
        "    demographic_cols = ['Occupation', 'City_Tier', 'Dependents', 'Age_Group']\n",
        "\n",
        "    fig, axes = plt.subplots(2, 2, figsize=(22, 12))\n",
        "    axes = axes.flatten()\n",
        "\n",
        "    missing_cols = [col for col in required_cols if col not in new_df.columns]\n",
        "    if missing_cols:\n",
        "        raise KeyError(f\"Missing required columns: {missing_cols}\")\n",
        "\n",
        "    for i, col in enumerate(demographic_cols):\n",
        "        ax = axes[i]\n",
        "\n",
        "        means = new_df.groupby(col)['Potential_Savings'].mean().dropna().sort_values()\n",
        "        if means.empty:\n",
        "            raise ValueError(\"No valid data in 'Potential_Savings' column.\")\n",
        "\n",
        "        ax.barh(means.index, means.values, color=plt.cm.Set3.colors[:len(means)])\n",
        "        for j, value in enumerate(means.values):\n",
        "            if not np.isnan(value):\n",
        "                ax.text(value + (0.01 * means.max()), j, f\"{int(value):,}\",\n",
        "                        va='center', ha='left', fontsize=10, color=\"black\")\n",
        "\n",
        "        ax.set_title(f\"Average Potential Savings by {col}\", fontsize=14, fontweight='bold')\n",
        "        ax.set_xlabel(\"Potential Savings (Currency Units)\", fontsize=12)\n",
        "        ax.set_ylabel(col, fontsize=12)\n",
        "        ax.xaxis.set_major_formatter(FuncFormatter(thousands_formatter))\n",
        "        ax.grid(axis='x', linestyle='--', alpha=0.6)\n",
        "\n",
        "    fig.suptitle(\"Average Potential Savings Across Demographic Categories\", fontsize=16, fontweight='bold', y=1.02)\n",
        "    plt.tight_layout()\n",
        "    plt.show()\n",
        "\n",
        "except KeyError as e:\n",
        "    print(f\"❌ Column not found: {e}\")\n",
        "except ValueError as e:\n",
        "    print(f\"❌ Data issue: {e}\")\n",
        "except Exception as e:\n",
        "    print(f\"❌ Error: {e}\")"
      ],
      "metadata": {
        "id": "B2aS4O1ophqO"
      },
      "execution_count": null,
      "outputs": []
    },
    {
      "cell_type": "markdown",
      "source": [
        "##### 1. Why did you pick the specific chart?"
      ],
      "metadata": {
        "id": "gCFgpxoyphqP"
      }
    },
    {
      "cell_type": "markdown",
      "source": [
        "* Horizontal bar charts are best for comparing average values across categories like occupation, city tier, dependents, and age group\n",
        "* Easy to read and compare demographic groups side by side\n",
        "* Helps reveal how potential savings differ by category."
      ],
      "metadata": {
        "id": "TVxDimi2phqP"
      }
    },
    {
      "cell_type": "markdown",
      "source": [
        "##### 2. What is/are the insight(s) found from the chart?"
      ],
      "metadata": {
        "id": "OVtJsKN_phqQ"
      }
    },
    {
      "cell_type": "markdown",
      "source": [
        "* Occupation: Professionals and Self-Employed save slightly more on average compared to Retired and Students\n",
        "* City Tier: Tier 3 cities surprisingly show higher savings than Tier 1 and Tier 2\n",
        "* Dependents: People with more dependents (4) save the most, while those with none save the least\n",
        "* Age Group: Younger group (18-24) has the highest savings, while mid-age groups (25-44) show lower savings."
      ],
      "metadata": {
        "id": "ngGi97qjphqQ"
      }
    },
    {
      "cell_type": "markdown",
      "source": [
        "##### 3. Will the gained insights help creating a positive business impact?\n",
        "Are there any insights that lead to negative growth? Justify with specific reason."
      ],
      "metadata": {
        "id": "lssrdh5qphqQ"
      }
    },
    {
      "cell_type": "markdown",
      "source": [
        "Positive Impact:\n",
        "* Helps identify risk groups (e.g., 25-44 age group, Retired, or people with no dependents) who might have lower financial buffers → useful for ML model to predict higher crisis risk\n",
        "* Businesses can design targeted financial tools:\n",
        "  * Youth saving plans (since 18-24 save more)\n",
        "  * Special support for retirees or students with lower savings\n",
        "* Insights support customer segmentation - improves personalized recommendations\n",
        "\n",
        "Possible Negative Impact:\n",
        "* Misinterpretation risk: Higher savings in Tier 3 cities or people with 4 dependents may not be sustainable (could be temporary or data bias)\n",
        "* Relying only on averages hides individual variations - some individuals in “high saving” groups may still be at crisis risk\n",
        "* If overemphasized, business might ignore high-income urban clients, limiting premium product growth"
      ],
      "metadata": {
        "id": "tBpY5ekJphqQ"
      }
    },
    {
      "cell_type": "markdown",
      "source": [
        "#### Chart - 10 Correlation Heatmap of Numeric Variables"
      ],
      "metadata": {
        "id": "U2RJ9gkRphqQ"
      }
    },
    {
      "cell_type": "code",
      "source": [
        "try:\n",
        "    numeric_cols = new_df.select_dtypes(include=['number']).columns.tolist()\n",
        "\n",
        "    if not numeric_cols:\n",
        "        raise ValueError(\"No numeric columns available in new_df.\")\n",
        "\n",
        "    corr_matrix = new_df[numeric_cols].corr()\n",
        "\n",
        "    plt.figure(figsize=(16, 12))\n",
        "    sns.heatmap(corr_matrix, annot=True, fmt=\".2f\", cmap=\"YlGnBu\", cbar=True)\n",
        "    plt.title(\"Correlation Heatmap of Numeric Variables\", fontsize=16, fontweight='bold')\n",
        "    plt.xticks(rotation=45)\n",
        "    plt.yticks(rotation=0)\n",
        "    plt.show()\n",
        "\n",
        "except KeyError as e:\n",
        "    print(f\"❌ Column not found: {e}\")\n",
        "except Exception as e:\n",
        "    print(f\"❌ Error: {e}\")\n"
      ],
      "metadata": {
        "id": "GM7a4YP4phqQ"
      },
      "execution_count": null,
      "outputs": []
    },
    {
      "cell_type": "markdown",
      "source": [
        "##### 1. Why did you pick the specific chart?"
      ],
      "metadata": {
        "id": "1M8mcRywphqQ"
      }
    },
    {
      "cell_type": "markdown",
      "source": [
        "* Correlation heatmaps are the best way to see relationships between numeric variables at once\n",
        "* Helps detect multicollinearity, strong dependencies, or redundant variables\n",
        "* Essential for feature selection and avoiding overfitting in ML models"
      ],
      "metadata": {
        "id": "8agQvks0phqQ"
      }
    },
    {
      "cell_type": "markdown",
      "source": [
        "##### 2. What is/are the insight(s) found from the chart?"
      ],
      "metadata": {
        "id": "tgIPom80phqQ"
      }
    },
    {
      "cell_type": "markdown",
      "source": [
        "* Income strongly correlates with most expenses (Groceries, Transport, Healthcare, etc.) - higher income leads to higher spending\n",
        "* Disposable Income is highly correlated with Desired Savings and Potential Savings categories - logical relationship (savings depend on leftover income)\n",
        "* Age and Dependents show very weak correlations with savings and spending - they may not directly impact savings but could still be useful categorical features\n",
        "* Loan Repayment negatively correlates with Disposable Income and Savings Ratio - debt reduces savings potential\n",
        "* Total Expenses negatively correlates with Savings Ratio - higher expenses lower the ability to save"
      ],
      "metadata": {
        "id": "Qp13pnNzphqQ"
      }
    },
    {
      "cell_type": "markdown",
      "source": [
        "##### 3. Will the gained insights help creating a positive business impact?\n",
        "Are there any insights that lead to negative growth? Justify with specific reason."
      ],
      "metadata": {
        "id": "JMzcOPDDphqR"
      }
    },
    {
      "cell_type": "markdown",
      "source": [
        "Positive Impact:\n",
        "* Identifies key predictors for financial crisis risk: Income, Loan Repayment, Disposable Income, Total Expenses, Savings Ratio\n",
        "* Helps simplify the ML model by removing redundant features (e.g., Groceries, Healthcare, Transport are all highly correlated with Total Expenses)\n",
        "* Strong correlations confirm that the dataset is consistent and realistic - increases model reliability\n",
        "* Enables business to design financial advisory solutions targeting loan-heavy individuals and high spenders\n",
        "\n",
        "Possible Negative Impact:\n",
        "* Very high correlations between expense categories may cause multicollinearity, leading to unstable model coefficients if not handled\n",
        "* Overemphasis on correlations may miss non-linear effects that also drive financial crisis risk"
      ],
      "metadata": {
        "id": "R4Ka1PC2phqR"
      }
    },
    {
      "cell_type": "markdown",
      "source": [
        "#### Chart - 11 Income vs Total Expenses (Bubble size = Potential Savings, Color = Age Group)"
      ],
      "metadata": {
        "id": "x-EpHcCOp1ci"
      }
    },
    {
      "cell_type": "code",
      "source": [
        "try:\n",
        "    data = new_df.dropna(subset=['Income', 'Total_Expenses', 'Potential_Savings', 'Age_Group'])\n",
        "    data = data[(data['Income'] > 0) & (data['Total_Expenses'] > 0)]\n",
        "\n",
        "    plt.figure(figsize=(10, 6))\n",
        "    scatter = plt.scatter(data['Income'], data['Total_Expenses'], s=data['Potential_Savings'] / 100, c=pd.Categorical(data['Age_Group']).codes, cmap='viridis', alpha=0.6, edgecolor='k')\n",
        "\n",
        "    plt.xscale('log')\n",
        "    plt.yscale('log')\n",
        "    plt.title(\"Income vs Total Expenses (Bubble size = Potential Savings, Color = Age Group)\", fontsize=14, fontweight='bold')\n",
        "    plt.xlabel(\"Income (Log Scale)\", fontsize=12)\n",
        "    plt.ylabel(\"Total Expenses (Log Scale)\", fontsize=12)\n",
        "    plt.grid(True, linestyle='--', alpha=0.5)\n",
        "    plt.colorbar(scatter, label='Age Group Code')\n",
        "    plt.tight_layout()\n",
        "    plt.show()\n",
        "\n",
        "except KeyError as e:\n",
        "    print(f\"❌ Column not found: {e}\")\n",
        "except Exception as e:\n",
        "    print(f\"❌ Error: {e}\")\n"
      ],
      "metadata": {
        "id": "mAQTIvtqp1cj"
      },
      "execution_count": null,
      "outputs": []
    },
    {
      "cell_type": "markdown",
      "source": [
        "##### 1. Why did you pick the specific chart?"
      ],
      "metadata": {
        "id": "X_VqEhTip1ck"
      }
    },
    {
      "cell_type": "markdown",
      "source": [
        "* Bubble chart with log scales is effective for showing financial ranges spread across small-to-very-large values\n",
        "* Bubble size (Potential Savings) and color (Age Group) add extra dimensions for insights beyond just Income vs Expenses\n",
        "* Good for detecting outliers and proportional relationships"
      ],
      "metadata": {
        "id": "-vsMzt_np1ck"
      }
    },
    {
      "cell_type": "markdown",
      "source": [
        "##### 2. What is/are the insight(s) found from the chart?"
      ],
      "metadata": {
        "id": "8zGJKyg5p1ck"
      }
    },
    {
      "cell_type": "markdown",
      "source": [
        "* Strong positive correlation between Income and Total Expenses - higher income leads to higher spending\n",
        "* Bubble sizes vary: Some high-income individuals still show large potential savings, while others save little despite high earnings\n",
        "* Across income groups, age groups are mixed - age alone is not a strong driver of expenses\n",
        "* Outliers exist where expenses are disproportionately high compared to income - these users may be at high risk of financial crisis."
      ],
      "metadata": {
        "id": "ZYdMsrqVp1ck"
      }
    },
    {
      "cell_type": "markdown",
      "source": [
        "##### 3. Will the gained insights help creating a positive business impact?\n",
        "Are there any insights that lead to negative growth? Justify with specific reason."
      ],
      "metadata": {
        "id": "PVzmfK_Ep1ck"
      }
    },
    {
      "cell_type": "markdown",
      "source": [
        "Positive Impact:\n",
        "* Confirms that income-expense ratio is critical for predicting financial crisis risk - strong feature for ML model\n",
        "* Identifies high-income but low-savings individuals as an important customer segment for financial advisory services\n",
        "* Outlier detection helps target people overspending relative to income, improving model accuracy and risk predictions\n",
        "\n",
        "Possible Negative Impact:\n",
        "* Log scale may hide subtle differences in mid-income groups, leading to underestimation of risk in the “middle class.”\n",
        "* Overemphasis on income-expense correlation may ignore behavioral features (like debt, lifestyle choices)\n",
        "* Business might focus only on high earners with large bubbles, missing low-income groups who are equally vulnerable to crisis"
      ],
      "metadata": {
        "id": "druuKYZpp1ck"
      }
    },
    {
      "cell_type": "markdown",
      "source": [
        "#### Chart - 12 Pairplot of Key Numeric Variables"
      ],
      "metadata": {
        "id": "n3dbpmDWp1ck"
      }
    },
    {
      "cell_type": "code",
      "source": [
        "try:\n",
        "    numeric_cols = ['Income', 'Total_Expenses', 'Desired_Savings', 'Potential_Savings', 'Disposable_Income']\n",
        "\n",
        "    missing_cols = [col for col in numeric_cols if col not in new_df.columns]\n",
        "    if missing_cols:\n",
        "        raise KeyError(f\"Missing required columns: {missing_cols}\")\n",
        "\n",
        "    sns.pairplot(new_df[numeric_cols], diag_kind='kde', plot_kws={'alpha': 0.6, 'edgecolor': 'k'})\n",
        "    plt.suptitle(\"Pairplot of Key Numeric Variables\", fontsize=16, fontweight='bold', y=1.02)\n",
        "    plt.tight_layout()\n",
        "    plt.show()\n",
        "\n",
        "except KeyError as e:\n",
        "    print(f\"❌ Column not found: {e}\")\n",
        "except Exception as e:\n",
        "    print(f\"❌ Error: {e}\")\n"
      ],
      "metadata": {
        "id": "bwevp1tKp1ck"
      },
      "execution_count": null,
      "outputs": []
    },
    {
      "cell_type": "markdown",
      "source": [
        "##### 1. Why did you pick the specific chart?"
      ],
      "metadata": {
        "id": "ylSl6qgtp1ck"
      }
    },
    {
      "cell_type": "markdown",
      "source": [
        "* Pairplot shows relationships between all key financial variables at once\n",
        "* Helps identify which factors are connected and can predict financial crisis risk together\n",
        "* Shows patterns and correlations that single charts might miss"
      ],
      "metadata": {
        "id": "m2xqNkiQp1ck"
      }
    },
    {
      "cell_type": "markdown",
      "source": [
        "##### 2. What is/are the insight(s) found from the chart?"
      ],
      "metadata": {
        "id": "ZWILFDl5p1ck"
      }
    },
    {
      "cell_type": "markdown",
      "source": [
        "* Strong positive relationship between income and total expenses - higher earners spend more\n",
        "* Income and disposable income show positive correlation - more income leads to more leftover money\n",
        "* Total expenses and disposable income have weak relationship - spending doesn't always reduce available money\n",
        "* Desired savings and potential savings show some correlation - people who want to save more can often save more\n",
        "* Most variables cluster at lower values with few high outliers - typical skewed financial data pattern\n",
        "* Potential savings stays low regardless of income level - even high earners can't save much"
      ],
      "metadata": {
        "id": "x-lUsV2mp1ck"
      }
    },
    {
      "cell_type": "markdown",
      "source": [
        "##### 3. Will the gained insights help creating a positive business impact?\n",
        "Are there any insights that lead to negative growth? Justify with specific reason."
      ],
      "metadata": {
        "id": "M7G43BXep1ck"
      }
    },
    {
      "cell_type": "markdown",
      "source": [
        "Positive Impact:\n",
        "* Can use multiple variables together to better predict financial crisis risk instead of single factors\n",
        "* Income-expense relationship helps identify people living beyond their means\n",
        "Combination of low disposable income + low potential savings = high crisis risk indicator\n",
        "* Multiple data points create more accurate risk assessment for the prediction model\n",
        "\n",
        "Possible Negative Impact:\n",
        "* Most people cluster in low-income, low-savings area making it hard to distinguish risk levels\n",
        "* Even people with higher income don't show much better savings potential\n",
        "* Strong income-expense correlation means people automatically spend more when they earn more"
      ],
      "metadata": {
        "id": "5wwDJXsLp1cl"
      }
    },
    {
      "cell_type": "markdown",
      "source": [
        "#### Chart - 13 Actual Expenses vs Potential Savings by Category"
      ],
      "metadata": {
        "id": "Ag9LCva-p1cl"
      }
    },
    {
      "cell_type": "code",
      "source": [
        "try:\n",
        "    categories = ['Groceries', 'Transport', 'Eating_Out', 'Entertainment', 'Utilities', 'Healthcare', 'Education', 'Miscellaneous']\n",
        "\n",
        "    actual_cols = categories\n",
        "    potential_cols = [f'Potential_Savings_{c}' for c in categories]\n",
        "\n",
        "    missing_cols = [col for col in actual_cols + potential_cols if col not in new_df.columns]\n",
        "    if missing_cols:\n",
        "        raise KeyError(f\"Missing required columns: {missing_cols}\")\n",
        "\n",
        "    actual = new_df[actual_cols].mean().tolist()\n",
        "    potential = new_df[potential_cols].mean().tolist()\n",
        "\n",
        "    N = len(categories)\n",
        "    angles = np.linspace(0, 2 * np.pi, N, endpoint=False).tolist()\n",
        "\n",
        "    actual += actual[:1]\n",
        "    potential += potential[:1]\n",
        "    angles += angles[:1]\n",
        "\n",
        "    fig, ax = plt.subplots(figsize=(6,6), subplot_kw=dict(polar=True))\n",
        "    ax.plot(angles, actual, label='Actual Expenses', marker='o')\n",
        "    ax.fill(angles, actual, alpha=0.25)\n",
        "    ax.plot(angles, potential, label='Potential Savings', marker='o')\n",
        "    ax.fill(angles, potential, alpha=0.25)\n",
        "\n",
        "    ax.set_xticks(angles[:-1])\n",
        "    ax.set_xticklabels(categories, fontsize=10)\n",
        "    ax.set_title(\"Actual Expenses vs Potential Savings by Category\", fontsize=14, fontweight='bold', y=1.1)\n",
        "    ax.legend(loc='upper right', bbox_to_anchor=(1.2, 1.1))\n",
        "\n",
        "    plt.tight_layout()\n",
        "    plt.show()\n",
        "\n",
        "except KeyError as e:\n",
        "    print(f\"❌ Column not found: {e}\")\n",
        "except Exception as e:\n",
        "    print(f\"❌ Error: {e}\")"
      ],
      "metadata": {
        "id": "EUfxeq9-p1cl"
      },
      "execution_count": null,
      "outputs": []
    },
    {
      "cell_type": "markdown",
      "source": [
        "##### 1. Why did you pick the specific chart?"
      ],
      "metadata": {
        "id": "E6MkPsBcp1cl"
      }
    },
    {
      "cell_type": "markdown",
      "source": [
        "* Radar chart shows actual spending vs potential savings for each expense category in one view\n",
        "* Helps identify which categories have the biggest gap between current spending and possible cuts\n",
        "* Easy to spot which expenses offer the best opportunities for reducing costs during financial stress"
      ],
      "metadata": {
        "id": "V22bRsFWp1cl"
      }
    },
    {
      "cell_type": "markdown",
      "source": [
        "##### 2. What is/are the insight(s) found from the chart?"
      ],
      "metadata": {
        "id": "2cELzS2fp1cl"
      }
    },
    {
      "cell_type": "markdown",
      "source": [
        "* Groceries have the highest actual expenses (around 5,000) but also the highest potential savings (around 900)\n",
        "* Transport shows moderate expenses (around 2,700) with good savings potential (around 450)\n",
        "* Utilities have significant expenses (around 2,500) with decent savings opportunity (around 400)\n",
        "* Healthcare and Education have low potential savings despite their costs - these are necessary expenses\n",
        "* Entertainment and Eating Out already have low spending, showing people have already cut these discretionary items\n",
        "* Big gap between blue (spending) and orange (savings potential) lines shows limited flexibility overall"
      ],
      "metadata": {
        "id": "ozQPc2_Ip1cl"
      }
    },
    {
      "cell_type": "markdown",
      "source": [
        "##### 3. Will the gained insights help creating a positive business impact?\n",
        "Are there any insights that lead to negative growth? Justify with specific reason."
      ],
      "metadata": {
        "id": "3MPXvC8up1cl"
      }
    },
    {
      "cell_type": "markdown",
      "source": [
        "Positive Impact:\n",
        "* Can advise users to focus cost-cutting on groceries first (biggest savings potential), then transport and utilities\n",
        "* Helps create smart budgeting recommendations based on which categories offer real flexibility\n",
        "* Can build emergency financial advice prioritizing high-impact savings areas\n",
        "Shows where to focus financial education efforts for maximum cost reduction\n",
        "\n",
        "Possible Negative Impact:\n",
        "* Even the best savings opportunities (groceries at 900) are relatively small compared to total expenses\n",
        "* Healthcare and education can't be reduced much, limiting options for people with high costs in these areas\n",
        "* People have already minimized discretionary spending, showing they're financially stretched\n",
        "* Overall savings potential is quite limited across all categories, reducing effectiveness of cost-cutting strategies"
      ],
      "metadata": {
        "id": "GL8l1tdLp1cl"
      }
    },
    {
      "cell_type": "markdown",
      "source": [
        "#### Chart - 14 - Average Income and Total Expenses Across Age Groups and City Tiers"
      ],
      "metadata": {
        "id": "NC_X3p0fY2L0"
      }
    },
    {
      "cell_type": "code",
      "source": [
        "try:\n",
        "    required_cols = ['Age_Group', 'City_Tier', 'Income', 'Total_Expenses']\n",
        "    missing_cols = [col for col in required_cols if col not in new_df.columns]\n",
        "    if missing_cols:\n",
        "        raise KeyError(f\"Missing required columns: {missing_cols}\")\n",
        "\n",
        "    agg_data = new_df.groupby(['Age_Group', 'City_Tier']).agg(Income=('Income', 'mean'), Total_Expenses=('Total_Expenses', 'mean')).reset_index()\n",
        "\n",
        "    fig, axes = plt.subplots(1, 2, figsize=(18,10), sharey=True)\n",
        "\n",
        "    sns.barplot(data=agg_data, x='Age_Group', y='Income', hue='City_Tier', palette=\"Set2\", ax=axes[0])\n",
        "    axes[0].set_title(\"Average Income Across Age Groups and City Tiers\", fontsize=14, fontweight=\"bold\")\n",
        "    axes[0].set_xlabel(\"Age Group\")\n",
        "    axes[0].set_ylabel(\"Average Income\")\n",
        "    for p in axes[0].patches:\n",
        "        height = p.get_height()\n",
        "        if height > 0:\n",
        "            axes[0].annotate(f'{height:,.0f}', (p.get_x() + p.get_width()/2., height),\n",
        "                             ha='center', va='bottom', fontsize=10, color='black', xytext=(0,3), textcoords='offset points', rotation=90)\n",
        "\n",
        "    sns.barplot(data=agg_data, x='Age_Group', y='Total_Expenses', hue='City_Tier', palette=\"Set2\", ax=axes[1])\n",
        "    axes[1].set_title(\"Average Total Expenses Across Age Groups and City Tiers\", fontsize=14, fontweight=\"bold\")\n",
        "    axes[1].set_xlabel(\"Age Group\")\n",
        "    axes[1].set_ylabel(\"Average Total Expenses\")\n",
        "    for p in axes[1].patches:\n",
        "        height = p.get_height()\n",
        "        if height > 0:\n",
        "            axes[1].annotate(f'{height:,.0f}', (p.get_x() + p.get_width()/2., height),\n",
        "                             ha='center', va='bottom', fontsize=10, color='black', xytext=(0,3), textcoords='offset points', rotation=90)\n",
        "\n",
        "    fig.suptitle(\"Income vs Total Expenses Across Age Groups and City Tiers\", fontsize=16, fontweight='bold', y=1.05)\n",
        "    plt.tight_layout()\n",
        "    plt.show()\n",
        "\n",
        "except KeyError as e:\n",
        "    print(f\"❌ Column not found: {e}\")\n",
        "except Exception as e:\n",
        "    print(f\"❌ Error: {e}\")"
      ],
      "metadata": {
        "id": "xyC9zolEZNRQ"
      },
      "execution_count": null,
      "outputs": []
    },
    {
      "cell_type": "markdown",
      "source": [
        "##### 1. Why did you pick the specific chart?"
      ],
      "metadata": {
        "id": "UV0SzAkaZNRQ"
      }
    },
    {
      "cell_type": "markdown",
      "source": [
        "* Side-by-side bar charts show income vs expenses across age and city combinations\n",
        "* Helps identify which groups have the biggest gap between what they earn and what they spend\n",
        "* Shows if certain age-city combinations are more at risk of financial problems"
      ],
      "metadata": {
        "id": "DVPuT8LYZNRQ"
      }
    },
    {
      "cell_type": "markdown",
      "source": [
        "##### 2. What is/are the insight(s) found from the chart?"
      ],
      "metadata": {
        "id": "YPEH6qLeZNRQ"
      }
    },
    {
      "cell_type": "markdown",
      "source": [
        "* Tier 1 cities have highest expenses (around 33,000-35,000) but similar income to other tiers - creates financial stress\n",
        "* Tier 3 cities have lowest expenses (around 27,000-29,000) with similar income levels - better financial position\n",
        "* Young people (18-24) in Tier 1 cities face the worst situation - high expenses with moderate income\n",
        "* Age doesn't significantly affect income or expenses within the same city tier\n",
        "* Income-expense gap is smallest in Tier 1 cities and largest in Tier 3 cities\n",
        "* All age groups struggle similarly, but location makes the biggest difference"
      ],
      "metadata": {
        "id": "bfSqtnDqZNRR"
      }
    },
    {
      "cell_type": "markdown",
      "source": [
        "##### 3. Will the gained insights help creating a positive business impact?\n",
        "Are there any insights that lead to negative growth? Justify with specific reason."
      ],
      "metadata": {
        "id": "4aA1nDShAbXE"
      }
    },
    {
      "cell_type": "markdown",
      "source": [
        "Positive Impact:\n",
        "* Can target Tier 1 city residents (especially young people) as high-risk customers for financial crisis prevention\n",
        "* Tier 3 city residents are better candidates for savings and investment products due to lower expenses\n",
        "* Age-neutral approach works since financial stress is more about location than age\n",
        "* Can create location-specific financial advice and risk assessment models\n",
        "\n",
        "Possible Negative Impact:\n",
        "* Tier 1 city residents have very tight budgets, limiting their ability to pay for financial services\n",
        "* Young people in expensive cities may have limited income for premium financial products\n",
        "* Systemic high living costs in major cities create problems that individual financial tools can't solve\n",
        "* Market opportunity is smaller in Tier 1 cities due to financial constraints of residents"
      ],
      "metadata": {
        "id": "mntfLkZYAbXJ"
      }
    },
    {
      "cell_type": "markdown",
      "source": [
        "#### Chart - 15 - Average Income by Age Group and Number of Dependents"
      ],
      "metadata": {
        "id": "q29F0dvdveiT"
      }
    },
    {
      "cell_type": "code",
      "source": [
        "try:\n",
        "    required_cols = ['Age_Group', 'Dependents', 'Income']\n",
        "    missing_cols = [col for col in required_cols if col not in new_df.columns]\n",
        "    if missing_cols:\n",
        "        raise KeyError(f\"Missing required columns: {missing_cols}\")\n",
        "\n",
        "    income_pivot = new_df.pivot_table(index='Age_Group', columns='Dependents', values='Income', aggfunc='mean')\n",
        "\n",
        "    plt.figure(figsize=(10, 6))\n",
        "    sns.heatmap(income_pivot, annot=True, fmt=\".0f\", cmap='YlGnBu', linewidths=0.5)\n",
        "\n",
        "    plt.title('Average Income by Age Group and Number of Dependents', fontsize=14, fontweight='bold')\n",
        "    plt.xlabel('Number of Dependents', fontsize=12)\n",
        "    plt.ylabel('Age Group', fontsize=12)\n",
        "    plt.tight_layout()\n",
        "    plt.show()\n",
        "\n",
        "except KeyError as e:\n",
        "    print(f\"❌ Column not found: {e}\")\n",
        "except Exception as e:\n",
        "    print(f\"❌ Error: {e}\")"
      ],
      "metadata": {
        "id": "o58-TEIhveiU"
      },
      "execution_count": null,
      "outputs": []
    },
    {
      "cell_type": "markdown",
      "source": [
        "##### 1. Why did you pick the specific chart?"
      ],
      "metadata": {
        "id": "EXh0U9oCveiU"
      }
    },
    {
      "cell_type": "markdown",
      "source": [
        "* Heatmap shows income patterns across age groups and family sizes in one clear view\n",
        "* Color coding makes it easy to spot which combinations have higher or lower incomes\n",
        "* Helps identify if having more dependents affects earning capacity at different life stages"
      ],
      "metadata": {
        "id": "eMmPjTByveiU"
      }
    },
    {
      "cell_type": "markdown",
      "source": [
        "##### 2. What is/are the insight(s) found from the chart?"
      ],
      "metadata": {
        "id": "22aHeOlLveiV"
      }
    },
    {
      "cell_type": "markdown",
      "source": [
        "* Young people (18-24) with 4 dependents have the highest income at 45,435 - unusual pattern\n",
        "* Most age groups show fairly consistent income regardless of number of dependents\n",
        "* People aged 55-64 with 4 dependents have notably lower income at 38,104 - potential retirement effect\n",
        "* Middle-aged groups (35-54) show slight income increases with more dependents, possibly career advancement\n",
        "* Overall income differences are small across most combinations - family size doesn't dramatically change earnings\n",
        "* Dark blue areas (higher income) are scattered randomly rather than following clear patterns"
      ],
      "metadata": {
        "id": "uPQ8RGwHveiV"
      }
    },
    {
      "cell_type": "markdown",
      "source": [
        "##### 3. Will the gained insights help creating a positive business impact?\n",
        "Are there any insights that lead to negative growth? Justify with specific reason."
      ],
      "metadata": {
        "id": "3yE5OOukAeYr"
      }
    },
    {
      "cell_type": "markdown",
      "source": [
        "Positive Impact:\n",
        "* Can identify specific age-dependent combinations that might need targeted financial support\n",
        "* Young families with many dependents may need different financial products than older families\n",
        "* Shows that financial stress isn't simply about family size - need to look at other factors\n",
        "* Helps avoid assumptions about income based on age or family size alone\n",
        "\n",
        "Possible Negative Impact:\n",
        "* Older people (55-64) with large families have lower incomes but higher expenses - double financial stress\n",
        "* Income patterns don't follow logical expectations, making it harder to predict financial risk\n",
        "* Small income variations mean demographic targeting won't be very effective\n",
        "* Complex patterns make it difficult to create simple rules for risk assessment"
      ],
      "metadata": {
        "id": "PD5wCG3qAeYr"
      }
    },
    {
      "cell_type": "markdown",
      "source": [
        "## ***5. Hypothesis Testing***"
      ],
      "metadata": {
        "id": "g-ATYxFrGrvw"
      }
    },
    {
      "cell_type": "markdown",
      "source": [
        "### Based on your chart experiments, define three hypothetical statements from the dataset. In the next three questions, perform hypothesis testing to obtain final conclusion about the statements through your code and statistical testing."
      ],
      "metadata": {
        "id": "Yfr_Vlr8HBkt"
      }
    },
    {
      "cell_type": "markdown",
      "source": [
        "Answer Here."
      ],
      "metadata": {
        "id": "-7MS06SUHkB-"
      }
    },
    {
      "cell_type": "markdown",
      "source": [
        "### Hypothetical Statement - 1"
      ],
      "metadata": {
        "id": "8yEUt7NnHlrM"
      }
    },
    {
      "cell_type": "markdown",
      "source": [
        "#### 1. State Your research hypothesis as a null hypothesis and alternate hypothesis."
      ],
      "metadata": {
        "id": "tEA2Xm5dHt1r"
      }
    },
    {
      "cell_type": "markdown",
      "source": [
        "Answer Here."
      ],
      "metadata": {
        "id": "HI9ZP0laH0D-"
      }
    },
    {
      "cell_type": "markdown",
      "source": [
        "#### 2. Perform an appropriate statistical test."
      ],
      "metadata": {
        "id": "I79__PHVH19G"
      }
    },
    {
      "cell_type": "code",
      "source": [
        "# Perform Statistical Test to obtain P-Value"
      ],
      "metadata": {
        "id": "oZrfquKtyian"
      },
      "execution_count": null,
      "outputs": []
    },
    {
      "cell_type": "markdown",
      "source": [
        "##### Which statistical test have you done to obtain P-Value?"
      ],
      "metadata": {
        "id": "Ou-I18pAyIpj"
      }
    },
    {
      "cell_type": "markdown",
      "source": [
        "Answer Here."
      ],
      "metadata": {
        "id": "s2U0kk00ygSB"
      }
    },
    {
      "cell_type": "markdown",
      "source": [
        "##### Why did you choose the specific statistical test?"
      ],
      "metadata": {
        "id": "fF3858GYyt-u"
      }
    },
    {
      "cell_type": "markdown",
      "source": [
        "Answer Here."
      ],
      "metadata": {
        "id": "HO4K0gP5y3B4"
      }
    },
    {
      "cell_type": "markdown",
      "source": [
        "### Hypothetical Statement - 2"
      ],
      "metadata": {
        "id": "4_0_7-oCpUZd"
      }
    },
    {
      "cell_type": "markdown",
      "source": [
        "#### 1. State Your research hypothesis as a null hypothesis and alternate hypothesis."
      ],
      "metadata": {
        "id": "hwyV_J3ipUZe"
      }
    },
    {
      "cell_type": "markdown",
      "source": [
        "Answer Here."
      ],
      "metadata": {
        "id": "FnpLGJ-4pUZe"
      }
    },
    {
      "cell_type": "markdown",
      "source": [
        "#### 2. Perform an appropriate statistical test."
      ],
      "metadata": {
        "id": "3yB-zSqbpUZe"
      }
    },
    {
      "cell_type": "code",
      "source": [
        "# Perform Statistical Test to obtain P-Value"
      ],
      "metadata": {
        "id": "sWxdNTXNpUZe"
      },
      "execution_count": null,
      "outputs": []
    },
    {
      "cell_type": "markdown",
      "source": [
        "##### Which statistical test have you done to obtain P-Value?"
      ],
      "metadata": {
        "id": "dEUvejAfpUZe"
      }
    },
    {
      "cell_type": "markdown",
      "source": [
        "Answer Here."
      ],
      "metadata": {
        "id": "oLDrPz7HpUZf"
      }
    },
    {
      "cell_type": "markdown",
      "source": [
        "##### Why did you choose the specific statistical test?"
      ],
      "metadata": {
        "id": "Fd15vwWVpUZf"
      }
    },
    {
      "cell_type": "markdown",
      "source": [
        "Answer Here."
      ],
      "metadata": {
        "id": "4xOGYyiBpUZf"
      }
    },
    {
      "cell_type": "markdown",
      "source": [
        "### Hypothetical Statement - 3"
      ],
      "metadata": {
        "id": "bn_IUdTipZyH"
      }
    },
    {
      "cell_type": "markdown",
      "source": [
        "#### 1. State Your research hypothesis as a null hypothesis and alternate hypothesis."
      ],
      "metadata": {
        "id": "49K5P_iCpZyH"
      }
    },
    {
      "cell_type": "markdown",
      "source": [
        "Answer Here."
      ],
      "metadata": {
        "id": "7gWI5rT9pZyH"
      }
    },
    {
      "cell_type": "markdown",
      "source": [
        "#### 2. Perform an appropriate statistical test."
      ],
      "metadata": {
        "id": "Nff-vKELpZyI"
      }
    },
    {
      "cell_type": "code",
      "source": [
        "# Perform Statistical Test to obtain P-Value"
      ],
      "metadata": {
        "id": "s6AnJQjtpZyI"
      },
      "execution_count": null,
      "outputs": []
    },
    {
      "cell_type": "markdown",
      "source": [
        "##### Which statistical test have you done to obtain P-Value?"
      ],
      "metadata": {
        "id": "kLW572S8pZyI"
      }
    },
    {
      "cell_type": "markdown",
      "source": [
        "Answer Here."
      ],
      "metadata": {
        "id": "ytWJ8v15pZyI"
      }
    },
    {
      "cell_type": "markdown",
      "source": [
        "##### Why did you choose the specific statistical test?"
      ],
      "metadata": {
        "id": "dWbDXHzopZyI"
      }
    },
    {
      "cell_type": "markdown",
      "source": [
        "Answer Here."
      ],
      "metadata": {
        "id": "M99G98V6pZyI"
      }
    },
    {
      "cell_type": "markdown",
      "source": [
        "## ***6. Feature Engineering & Data Pre-processing***"
      ],
      "metadata": {
        "id": "yLjJCtPM0KBk"
      }
    },
    {
      "cell_type": "markdown",
      "source": [
        "### 1. Handling Missing Values"
      ],
      "metadata": {
        "id": "xiyOF9F70UgQ"
      }
    },
    {
      "cell_type": "code",
      "source": [
        "# Handling Missing Values & Missing Value Imputation"
      ],
      "metadata": {
        "id": "iRsAHk1K0fpS"
      },
      "execution_count": null,
      "outputs": []
    },
    {
      "cell_type": "markdown",
      "source": [
        "#### What all missing value imputation techniques have you used and why did you use those techniques?"
      ],
      "metadata": {
        "id": "7wuGOrhz0itI"
      }
    },
    {
      "cell_type": "markdown",
      "source": [
        "Answer Here."
      ],
      "metadata": {
        "id": "1ixusLtI0pqI"
      }
    },
    {
      "cell_type": "markdown",
      "source": [
        "### 2. Handling Outliers"
      ],
      "metadata": {
        "id": "id1riN9m0vUs"
      }
    },
    {
      "cell_type": "code",
      "source": [
        "# Handling Outliers & Outlier treatments"
      ],
      "metadata": {
        "id": "M6w2CzZf04JK"
      },
      "execution_count": null,
      "outputs": []
    },
    {
      "cell_type": "markdown",
      "source": [
        "##### What all outlier treatment techniques have you used and why did you use those techniques?"
      ],
      "metadata": {
        "id": "578E2V7j08f6"
      }
    },
    {
      "cell_type": "markdown",
      "source": [
        "Answer Here."
      ],
      "metadata": {
        "id": "uGZz5OrT1HH-"
      }
    },
    {
      "cell_type": "markdown",
      "source": [
        "### 3. Categorical Encoding"
      ],
      "metadata": {
        "id": "89xtkJwZ18nB"
      }
    },
    {
      "cell_type": "code",
      "source": [
        "# Encode your categorical columns"
      ],
      "metadata": {
        "id": "21JmIYMG2hEo"
      },
      "execution_count": null,
      "outputs": []
    },
    {
      "cell_type": "markdown",
      "source": [
        "#### What all categorical encoding techniques have you used & why did you use those techniques?"
      ],
      "metadata": {
        "id": "67NQN5KX2AMe"
      }
    },
    {
      "cell_type": "markdown",
      "source": [
        "Answer Here."
      ],
      "metadata": {
        "id": "UDaue5h32n_G"
      }
    },
    {
      "cell_type": "markdown",
      "source": [
        "### 4. Textual Data Preprocessing\n",
        "(It's mandatory for textual dataset i.e., NLP, Sentiment Analysis, Text Clustering etc.)"
      ],
      "metadata": {
        "id": "Iwf50b-R2tYG"
      }
    },
    {
      "cell_type": "markdown",
      "source": [
        "#### 1. Expand Contraction"
      ],
      "metadata": {
        "id": "GMQiZwjn3iu7"
      }
    },
    {
      "cell_type": "code",
      "source": [
        "# Expand Contraction"
      ],
      "metadata": {
        "id": "PTouz10C3oNN"
      },
      "execution_count": null,
      "outputs": []
    },
    {
      "cell_type": "markdown",
      "source": [
        "#### 2. Lower Casing"
      ],
      "metadata": {
        "id": "WVIkgGqN3qsr"
      }
    },
    {
      "cell_type": "code",
      "source": [
        "# Lower Casing"
      ],
      "metadata": {
        "id": "88JnJ1jN3w7j"
      },
      "execution_count": null,
      "outputs": []
    },
    {
      "cell_type": "markdown",
      "source": [
        "#### 3. Removing Punctuations"
      ],
      "metadata": {
        "id": "XkPnILGE3zoT"
      }
    },
    {
      "cell_type": "code",
      "source": [
        "# Remove Punctuations"
      ],
      "metadata": {
        "id": "vqbBqNaA33c0"
      },
      "execution_count": null,
      "outputs": []
    },
    {
      "cell_type": "markdown",
      "source": [
        "#### 4. Removing URLs & Removing words and digits contain digits."
      ],
      "metadata": {
        "id": "Hlsf0x5436Go"
      }
    },
    {
      "cell_type": "code",
      "source": [
        "# Remove URLs & Remove words and digits contain digits"
      ],
      "metadata": {
        "id": "2sxKgKxu4Ip3"
      },
      "execution_count": null,
      "outputs": []
    },
    {
      "cell_type": "markdown",
      "source": [
        "#### 5. Removing Stopwords & Removing White spaces"
      ],
      "metadata": {
        "id": "mT9DMSJo4nBL"
      }
    },
    {
      "cell_type": "code",
      "source": [
        "# Remove Stopwords"
      ],
      "metadata": {
        "id": "T2LSJh154s8W"
      },
      "execution_count": null,
      "outputs": []
    },
    {
      "cell_type": "code",
      "source": [
        "# Remove White spaces"
      ],
      "metadata": {
        "id": "EgLJGffy4vm0"
      },
      "execution_count": null,
      "outputs": []
    },
    {
      "cell_type": "markdown",
      "source": [
        "#### 6. Rephrase Text"
      ],
      "metadata": {
        "id": "c49ITxTc407N"
      }
    },
    {
      "cell_type": "code",
      "source": [
        "# Rephrase Text"
      ],
      "metadata": {
        "id": "foqY80Qu48N2"
      },
      "execution_count": null,
      "outputs": []
    },
    {
      "cell_type": "markdown",
      "source": [
        "#### 7. Tokenization"
      ],
      "metadata": {
        "id": "OeJFEK0N496M"
      }
    },
    {
      "cell_type": "code",
      "source": [
        "# Tokenization"
      ],
      "metadata": {
        "id": "ijx1rUOS5CUU"
      },
      "execution_count": null,
      "outputs": []
    },
    {
      "cell_type": "markdown",
      "source": [
        "#### 8. Text Normalization"
      ],
      "metadata": {
        "id": "9ExmJH0g5HBk"
      }
    },
    {
      "cell_type": "code",
      "source": [
        "# Normalizing Text (i.e., Stemming, Lemmatization etc.)"
      ],
      "metadata": {
        "id": "AIJ1a-Zc5PY8"
      },
      "execution_count": null,
      "outputs": []
    },
    {
      "cell_type": "markdown",
      "source": [
        "##### Which text normalization technique have you used and why?"
      ],
      "metadata": {
        "id": "cJNqERVU536h"
      }
    },
    {
      "cell_type": "markdown",
      "source": [
        "Answer Here."
      ],
      "metadata": {
        "id": "Z9jKVxE06BC1"
      }
    },
    {
      "cell_type": "markdown",
      "source": [
        "#### 9. Part of speech tagging"
      ],
      "metadata": {
        "id": "k5UmGsbsOxih"
      }
    },
    {
      "cell_type": "code",
      "source": [
        "# POS Taging"
      ],
      "metadata": {
        "id": "btT3ZJBAO6Ik"
      },
      "execution_count": null,
      "outputs": []
    },
    {
      "cell_type": "markdown",
      "source": [
        "#### 10. Text Vectorization"
      ],
      "metadata": {
        "id": "T0VqWOYE6DLQ"
      }
    },
    {
      "cell_type": "code",
      "source": [
        "# Vectorizing Text"
      ],
      "metadata": {
        "id": "yBRtdhth6JDE"
      },
      "execution_count": null,
      "outputs": []
    },
    {
      "cell_type": "markdown",
      "source": [
        "##### Which text vectorization technique have you used and why?"
      ],
      "metadata": {
        "id": "qBMux9mC6MCf"
      }
    },
    {
      "cell_type": "markdown",
      "source": [
        "Answer Here."
      ],
      "metadata": {
        "id": "su2EnbCh6UKQ"
      }
    },
    {
      "cell_type": "markdown",
      "source": [
        "### 4. Feature Manipulation & Selection"
      ],
      "metadata": {
        "id": "-oLEiFgy-5Pf"
      }
    },
    {
      "cell_type": "markdown",
      "source": [
        "#### 1. Feature Manipulation"
      ],
      "metadata": {
        "id": "C74aWNz2AliB"
      }
    },
    {
      "cell_type": "code",
      "source": [
        "# Manipulate Features to minimize feature correlation and create new features"
      ],
      "metadata": {
        "id": "h1qC4yhBApWC"
      },
      "execution_count": null,
      "outputs": []
    },
    {
      "cell_type": "markdown",
      "source": [
        "#### 2. Feature Selection"
      ],
      "metadata": {
        "id": "2DejudWSA-a0"
      }
    },
    {
      "cell_type": "code",
      "source": [
        "# Select your features wisely to avoid overfitting"
      ],
      "metadata": {
        "id": "YLhe8UmaBCEE"
      },
      "execution_count": null,
      "outputs": []
    },
    {
      "cell_type": "markdown",
      "source": [
        "##### What all feature selection methods have you used  and why?"
      ],
      "metadata": {
        "id": "pEMng2IbBLp7"
      }
    },
    {
      "cell_type": "markdown",
      "source": [
        "Answer Here."
      ],
      "metadata": {
        "id": "rb2Lh6Z8BgGs"
      }
    },
    {
      "cell_type": "markdown",
      "source": [
        "##### Which all features you found important and why?"
      ],
      "metadata": {
        "id": "rAdphbQ9Bhjc"
      }
    },
    {
      "cell_type": "markdown",
      "source": [
        "Answer Here."
      ],
      "metadata": {
        "id": "fGgaEstsBnaf"
      }
    },
    {
      "cell_type": "markdown",
      "source": [
        "### 5. Data Transformation"
      ],
      "metadata": {
        "id": "TNVZ9zx19K6k"
      }
    },
    {
      "cell_type": "markdown",
      "source": [
        "#### Do you think that your data needs to be transformed? If yes, which transformation have you used. Explain Why?"
      ],
      "metadata": {
        "id": "nqoHp30x9hH9"
      }
    },
    {
      "cell_type": "code",
      "source": [
        "# Transform Your data"
      ],
      "metadata": {
        "id": "I6quWQ1T9rtH"
      },
      "execution_count": null,
      "outputs": []
    },
    {
      "cell_type": "markdown",
      "source": [
        "### 6. Data Scaling"
      ],
      "metadata": {
        "id": "rMDnDkt2B6du"
      }
    },
    {
      "cell_type": "code",
      "source": [
        "# Scaling your data"
      ],
      "metadata": {
        "id": "dL9LWpySC6x_"
      },
      "execution_count": null,
      "outputs": []
    },
    {
      "cell_type": "markdown",
      "source": [
        "##### Which method have you used to scale you data and why?"
      ],
      "metadata": {
        "id": "yiiVWRdJDDil"
      }
    },
    {
      "cell_type": "markdown",
      "source": [
        "### 7. Dimesionality Reduction"
      ],
      "metadata": {
        "id": "1UUpS68QDMuG"
      }
    },
    {
      "cell_type": "markdown",
      "source": [
        "##### Do you think that dimensionality reduction is needed? Explain Why?"
      ],
      "metadata": {
        "id": "kexQrXU-DjzY"
      }
    },
    {
      "cell_type": "markdown",
      "source": [
        "Answer Here."
      ],
      "metadata": {
        "id": "GGRlBsSGDtTQ"
      }
    },
    {
      "cell_type": "code",
      "source": [
        "# DImensionality Reduction (If needed)"
      ],
      "metadata": {
        "id": "kQfvxBBHDvCa"
      },
      "execution_count": null,
      "outputs": []
    },
    {
      "cell_type": "markdown",
      "source": [
        "##### Which dimensionality reduction technique have you used and why? (If dimensionality reduction done on dataset.)"
      ],
      "metadata": {
        "id": "T5CmagL3EC8N"
      }
    },
    {
      "cell_type": "markdown",
      "source": [
        "Answer Here."
      ],
      "metadata": {
        "id": "ZKr75IDuEM7t"
      }
    },
    {
      "cell_type": "markdown",
      "source": [
        "### 8. Data Splitting"
      ],
      "metadata": {
        "id": "BhH2vgX9EjGr"
      }
    },
    {
      "cell_type": "code",
      "source": [
        "# Split your data to train and test. Choose Splitting ratio wisely."
      ],
      "metadata": {
        "id": "0CTyd2UwEyNM"
      },
      "execution_count": null,
      "outputs": []
    },
    {
      "cell_type": "markdown",
      "source": [
        "##### What data splitting ratio have you used and why?"
      ],
      "metadata": {
        "id": "qjKvONjwE8ra"
      }
    },
    {
      "cell_type": "markdown",
      "source": [
        "Answer Here."
      ],
      "metadata": {
        "id": "Y2lJ8cobFDb_"
      }
    },
    {
      "cell_type": "markdown",
      "source": [
        "### 9. Handling Imbalanced Dataset"
      ],
      "metadata": {
        "id": "P1XJ9OREExlT"
      }
    },
    {
      "cell_type": "markdown",
      "source": [
        "##### Do you think the dataset is imbalanced? Explain Why."
      ],
      "metadata": {
        "id": "VFOzZv6IFROw"
      }
    },
    {
      "cell_type": "markdown",
      "source": [
        "Answer Here."
      ],
      "metadata": {
        "id": "GeKDIv7pFgcC"
      }
    },
    {
      "cell_type": "code",
      "source": [
        "# Handling Imbalanced Dataset (If needed)"
      ],
      "metadata": {
        "id": "nQsRhhZLFiDs"
      },
      "execution_count": null,
      "outputs": []
    },
    {
      "cell_type": "markdown",
      "source": [
        "##### What technique did you use to handle the imbalance dataset and why? (If needed to be balanced)"
      ],
      "metadata": {
        "id": "TIqpNgepFxVj"
      }
    },
    {
      "cell_type": "markdown",
      "source": [
        "Answer Here."
      ],
      "metadata": {
        "id": "qbet1HwdGDTz"
      }
    },
    {
      "cell_type": "markdown",
      "source": [
        "## ***7. ML Model Implementation***"
      ],
      "metadata": {
        "id": "VfCC591jGiD4"
      }
    },
    {
      "cell_type": "markdown",
      "source": [
        "### ML Model - 1"
      ],
      "metadata": {
        "id": "OB4l2ZhMeS1U"
      }
    },
    {
      "cell_type": "code",
      "source": [
        "# ML Model - 1 Implementation\n",
        "\n",
        "# Fit the Algorithm\n",
        "\n",
        "# Predict on the model"
      ],
      "metadata": {
        "id": "7ebyywQieS1U"
      },
      "execution_count": null,
      "outputs": []
    },
    {
      "cell_type": "markdown",
      "source": [
        "#### 1. Explain the ML Model used and it's performance using Evaluation metric Score Chart."
      ],
      "metadata": {
        "id": "ArJBuiUVfxKd"
      }
    },
    {
      "cell_type": "code",
      "source": [
        "# Visualizing evaluation Metric Score chart"
      ],
      "metadata": {
        "id": "rqD5ZohzfxKe"
      },
      "execution_count": null,
      "outputs": []
    },
    {
      "cell_type": "markdown",
      "source": [
        "#### 2. Cross- Validation & Hyperparameter Tuning"
      ],
      "metadata": {
        "id": "4qY1EAkEfxKe"
      }
    },
    {
      "cell_type": "code",
      "source": [
        "# ML Model - 1 Implementation with hyperparameter optimization techniques (i.e., GridSearch CV, RandomSearch CV, Bayesian Optimization etc.)\n",
        "\n",
        "# Fit the Algorithm\n",
        "\n",
        "# Predict on the model"
      ],
      "metadata": {
        "id": "Dy61ujd6fxKe"
      },
      "execution_count": null,
      "outputs": []
    },
    {
      "cell_type": "markdown",
      "source": [
        "##### Which hyperparameter optimization technique have you used and why?"
      ],
      "metadata": {
        "id": "PiV4Ypx8fxKe"
      }
    },
    {
      "cell_type": "markdown",
      "source": [
        "Answer Here."
      ],
      "metadata": {
        "id": "negyGRa7fxKf"
      }
    },
    {
      "cell_type": "markdown",
      "source": [
        "##### Have you seen any improvement? Note down the improvement with updates Evaluation metric Score Chart."
      ],
      "metadata": {
        "id": "TfvqoZmBfxKf"
      }
    },
    {
      "cell_type": "markdown",
      "source": [
        "Answer Here."
      ],
      "metadata": {
        "id": "OaLui8CcfxKf"
      }
    },
    {
      "cell_type": "markdown",
      "source": [
        "### ML Model - 2"
      ],
      "metadata": {
        "id": "dJ2tPlVmpsJ0"
      }
    },
    {
      "cell_type": "markdown",
      "source": [
        "#### 1. Explain the ML Model used and it's performance using Evaluation metric Score Chart."
      ],
      "metadata": {
        "id": "JWYfwnehpsJ1"
      }
    },
    {
      "cell_type": "code",
      "source": [
        "# Visualizing evaluation Metric Score chart"
      ],
      "metadata": {
        "id": "yEl-hgQWpsJ1"
      },
      "execution_count": null,
      "outputs": []
    },
    {
      "cell_type": "markdown",
      "source": [
        "#### 2. Cross- Validation & Hyperparameter Tuning"
      ],
      "metadata": {
        "id": "-jK_YjpMpsJ2"
      }
    },
    {
      "cell_type": "code",
      "source": [
        "# ML Model - 1 Implementation with hyperparameter optimization techniques (i.e., GridSearch CV, RandomSearch CV, Bayesian Optimization etc.)\n",
        "\n",
        "# Fit the Algorithm\n",
        "\n",
        "# Predict on the model"
      ],
      "metadata": {
        "id": "Dn0EOfS6psJ2"
      },
      "execution_count": null,
      "outputs": []
    },
    {
      "cell_type": "markdown",
      "source": [
        "##### Which hyperparameter optimization technique have you used and why?"
      ],
      "metadata": {
        "id": "HAih1iBOpsJ2"
      }
    },
    {
      "cell_type": "markdown",
      "source": [
        "Answer Here."
      ],
      "metadata": {
        "id": "9kBgjYcdpsJ2"
      }
    },
    {
      "cell_type": "markdown",
      "source": [
        "##### Have you seen any improvement? Note down the improvement with updates Evaluation metric Score Chart."
      ],
      "metadata": {
        "id": "zVGeBEFhpsJ2"
      }
    },
    {
      "cell_type": "markdown",
      "source": [
        "Answer Here."
      ],
      "metadata": {
        "id": "74yRdG6UpsJ3"
      }
    },
    {
      "cell_type": "markdown",
      "source": [
        "#### 3. Explain each evaluation metric's indication towards business and the business impact pf the ML model used."
      ],
      "metadata": {
        "id": "bmKjuQ-FpsJ3"
      }
    },
    {
      "cell_type": "markdown",
      "source": [
        "Answer Here."
      ],
      "metadata": {
        "id": "BDKtOrBQpsJ3"
      }
    },
    {
      "cell_type": "markdown",
      "source": [
        "### ML Model - 3"
      ],
      "metadata": {
        "id": "Fze-IPXLpx6K"
      }
    },
    {
      "cell_type": "code",
      "source": [
        "# ML Model - 3 Implementation\n",
        "\n",
        "# Fit the Algorithm\n",
        "\n",
        "# Predict on the model"
      ],
      "metadata": {
        "id": "FFrSXAtrpx6M"
      },
      "execution_count": null,
      "outputs": []
    },
    {
      "cell_type": "markdown",
      "source": [
        "#### 1. Explain the ML Model used and it's performance using Evaluation metric Score Chart."
      ],
      "metadata": {
        "id": "7AN1z2sKpx6M"
      }
    },
    {
      "cell_type": "code",
      "source": [
        "# Visualizing evaluation Metric Score chart"
      ],
      "metadata": {
        "id": "xIY4lxxGpx6M"
      },
      "execution_count": null,
      "outputs": []
    },
    {
      "cell_type": "markdown",
      "source": [
        "#### 2. Cross- Validation & Hyperparameter Tuning"
      ],
      "metadata": {
        "id": "9PIHJqyupx6M"
      }
    },
    {
      "cell_type": "code",
      "source": [
        "# ML Model - 3 Implementation with hyperparameter optimization techniques (i.e., GridSearch CV, RandomSearch CV, Bayesian Optimization etc.)\n",
        "\n",
        "# Fit the Algorithm\n",
        "\n",
        "# Predict on the model"
      ],
      "metadata": {
        "id": "eSVXuaSKpx6M"
      },
      "execution_count": null,
      "outputs": []
    },
    {
      "cell_type": "markdown",
      "source": [
        "##### Which hyperparameter optimization technique have you used and why?"
      ],
      "metadata": {
        "id": "_-qAgymDpx6N"
      }
    },
    {
      "cell_type": "markdown",
      "source": [
        "Answer Here."
      ],
      "metadata": {
        "id": "lQMffxkwpx6N"
      }
    },
    {
      "cell_type": "markdown",
      "source": [
        "##### Have you seen any improvement? Note down the improvement with updates Evaluation metric Score Chart."
      ],
      "metadata": {
        "id": "Z-hykwinpx6N"
      }
    },
    {
      "cell_type": "markdown",
      "source": [
        "Answer Here."
      ],
      "metadata": {
        "id": "MzVzZC6opx6N"
      }
    },
    {
      "cell_type": "markdown",
      "source": [
        "### 1. Which Evaluation metrics did you consider for a positive business impact and why?"
      ],
      "metadata": {
        "id": "h_CCil-SKHpo"
      }
    },
    {
      "cell_type": "markdown",
      "source": [
        "Answer Here."
      ],
      "metadata": {
        "id": "jHVz9hHDKFms"
      }
    },
    {
      "cell_type": "markdown",
      "source": [
        "### 2. Which ML model did you choose from the above created models as your final prediction model and why?"
      ],
      "metadata": {
        "id": "cBFFvTBNJzUa"
      }
    },
    {
      "cell_type": "markdown",
      "source": [
        "Answer Here."
      ],
      "metadata": {
        "id": "6ksF5Q1LKTVm"
      }
    },
    {
      "cell_type": "markdown",
      "source": [
        "### 3. Explain the model which you have used and the feature importance using any model explainability tool?"
      ],
      "metadata": {
        "id": "HvGl1hHyA_VK"
      }
    },
    {
      "cell_type": "markdown",
      "source": [
        "Answer Here."
      ],
      "metadata": {
        "id": "YnvVTiIxBL-C"
      }
    },
    {
      "cell_type": "markdown",
      "source": [
        "## ***8.*** ***Future Work (Optional)***"
      ],
      "metadata": {
        "id": "EyNgTHvd2WFk"
      }
    },
    {
      "cell_type": "markdown",
      "source": [
        "### 1. Save the best performing ml model in a pickle file or joblib file format for deployment process.\n"
      ],
      "metadata": {
        "id": "KH5McJBi2d8v"
      }
    },
    {
      "cell_type": "code",
      "source": [
        "# Save the File"
      ],
      "metadata": {
        "id": "bQIANRl32f4J"
      },
      "execution_count": null,
      "outputs": []
    },
    {
      "cell_type": "markdown",
      "source": [
        "### 2. Again Load the saved model file and try to predict unseen data for a sanity check.\n"
      ],
      "metadata": {
        "id": "iW_Lq9qf2h6X"
      }
    },
    {
      "cell_type": "code",
      "source": [
        "# Load the File and predict unseen data."
      ],
      "metadata": {
        "id": "oEXk9ydD2nVC"
      },
      "execution_count": null,
      "outputs": []
    },
    {
      "cell_type": "markdown",
      "source": [
        "### ***Congrats! Your model is successfully created and ready for deployment on a live server for a real user interaction !!!***"
      ],
      "metadata": {
        "id": "-Kee-DAl2viO"
      }
    },
    {
      "cell_type": "markdown",
      "source": [
        "# **Conclusion**"
      ],
      "metadata": {
        "id": "gCX9965dhzqZ"
      }
    },
    {
      "cell_type": "markdown",
      "source": [
        "Write the conclusion here."
      ],
      "metadata": {
        "id": "Fjb1IsQkh3yE"
      }
    },
    {
      "cell_type": "markdown",
      "source": [
        "### ***Hurrah! You have successfully completed your Machine Learning Capstone Project !!!***"
      ],
      "metadata": {
        "id": "gIfDvo9L0UH2"
      }
    }
  ]
}